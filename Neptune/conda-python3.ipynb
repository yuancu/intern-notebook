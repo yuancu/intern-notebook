{
 "cells": [
  {
   "cell_type": "code",
   "execution_count": 1,
   "id": "d9f2ef5a",
   "metadata": {},
   "outputs": [
    {
     "data": {
      "text/plain": [
       "{'status': 'healthy',\n",
       " 'startTime': 'Mon May 24 08:32:13 UTC 2021',\n",
       " 'dbEngineVersion': '1.0.4.1.R4',\n",
       " 'role': 'writer',\n",
       " 'gremlin': {'version': 'tinkerpop-3.4.8'},\n",
       " 'sparql': {'version': 'sparql-1.1'},\n",
       " 'labMode': {'NeptuneML': 'disabled',\n",
       "  'ObjectIndex': 'disabled',\n",
       "  'DFEQueryEngine': 'disabled',\n",
       "  'ReadWriteConflictDetection': 'enabled'}}"
      ]
     },
     "execution_count": 1,
     "metadata": {},
     "output_type": "execute_result"
    }
   ],
   "source": [
    "%status"
   ]
  },
  {
   "cell_type": "code",
   "execution_count": null,
   "id": "67956597",
   "metadata": {},
   "outputs": [],
   "source": []
  }
 ],
 "metadata": {
  "kernelspec": {
   "display_name": "conda_python3",
   "language": "python",
   "name": "conda_python3"
  },
  "language_info": {
   "codemirror_mode": {
    "name": "ipython",
    "version": 3
   },
   "file_extension": ".py",
   "mimetype": "text/x-python",
   "name": "python",
   "nbconvert_exporter": "python",
   "pygments_lexer": "ipython3",
   "version": "3.6.13"
  }
 },
 "nbformat": 4,
 "nbformat_minor": 5
}
