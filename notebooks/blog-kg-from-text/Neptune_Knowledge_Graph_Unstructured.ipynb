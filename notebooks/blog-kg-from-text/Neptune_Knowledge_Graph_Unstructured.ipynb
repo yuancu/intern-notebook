{
 "cells": [
  {
   "cell_type": "markdown",
   "metadata": {},
   "source": [
    "<H1>This notebook is a companion to the <a href=\"#blank\">Building a Knowledge Graph in Neptune using Unstructured Text</a> blog post. </H1>\n",
    "\n",
    "<p>In this notebook, we will copy output from Amazon Comprehend Events from an S3 bucket, transform it into bulk loader files in both Property Graph (Gremlin) and RDF formats, load it into a Neptune cluster, and perform some analysis queries on it. This notebook relies on environment variables injected by a CloudFormation script and therefore should only be used when installed by the CloudFormation script at <a href=\"https://aws-neptune-customer-samples.s3.amazonaws.com/knowledge-graph-unstructured/neptune-kg-unstructured-blog-stack.yml\">https://aws-neptune-customer-samples.s3.amazonaws.com/knowledge-graph-unstructured/neptune-kg-unstructured-blog-stack.yml</a>.</p>\n",
    "\n",
    "<H2>Section 1:  Transforming Amazon Comprehend Events API output into our graph models</H2>\n",
    "\n",
    "<p> The cell below is reference code to transform the raw output from Comprehend into the model we describe in the blog.  The first cell creates the Property Graph version and writes the CSV files in the Property Graph CSV file format used by Neptune for bulk loading.  These files will be stored locally on the instance in the working directory as bulk-load-nodes.csv and bulk-load-edges.csv. After running this cell, you should see the word \"Complete\" in the cell output to indicate it was successful.</p>"
   ]
  },
  {
   "cell_type": "code",
   "execution_count": 1,
   "metadata": {},
   "outputs": [
    {
     "name": "stdout",
     "output_type": "stream",
     "text": [
      "Complete\n"
     ]
    }
   ],
   "source": [
    "import sys\n",
    "import boto3\n",
    "import json\n",
    "import csv\n",
    "import urllib\n",
    "\n",
    "s3 = boto3.resource('s3')\n",
    "\n",
    "class Vertex:\n",
    "    def __init__(self):\n",
    "        self.words = set()\n",
    "        self.primaryName = \"\"\n",
    "        self.entityType = \"\"\n",
    "        self.id = \"\"\n",
    "        \n",
    "    def addWord(self, word):\n",
    "        self.words.add(word)\n",
    "    \n",
    "    def setPrimaryName(self, name):\n",
    "        self.primaryName = name\n",
    "        \n",
    "    def setEntityType(self, entityType):\n",
    "        self.entityType = entityType\n",
    "        \n",
    "    def setId(self, rawIdString):\n",
    "        self.id = \"_\".join(rawIdString.split()).lower() # replace all whitespace with underscores\n",
    "\n",
    "    def getId(self):\n",
    "        return self.id\n",
    "    \n",
    "    def toString(self):\n",
    "        print(\"Entity \" + self.getId() + \"; type=\" + self.entityType + \"; words: \" + str(self.words))\n",
    "        \n",
    "\n",
    "class Edge:\n",
    "    def __init__(self, fromEntity, toEntity, edgeType):\n",
    "        self.fromEntity = fromEntity\n",
    "        self.toEntity = toEntity\n",
    "        self.edgeType = edgeType\n",
    "    \n",
    "    def getId(self):\n",
    "        return \"_\".join((\"edge__\" + self.fromEntity.getId() + \"_\" + self.toEntity.getId() + \"_\" + self.edgeType).split()).lower()  # replace all whitespace with underscores\n",
    "    \n",
    "    def toString(self):\n",
    "        print(\"Edge \" + self.fromEntity.getId() + \" --\" + self.edgeType + \"-> \" + self.toEntity.getId())\n",
    "\n",
    "# We have stored the Comprehend output for our dataset into a public S3 bucket.\n",
    "s3bucket = 'aws-neptune-customer-samples'\n",
    "s3path = 'knowledge-graph-unstructured/sample_finance_dataset.txt.out'\n",
    "\n",
    "obj = s3.Object(s3bucket, s3path)\n",
    "# The Comprehend output is in JSON lines format\n",
    "jsonlines = obj.get()['Body'].iter_lines()\n",
    "\n",
    "nodeList = []\n",
    "edgeList = []\n",
    "nodeWordList = {}\n",
    "# We will filter out names referring to each entity with less than 0.95 group certainty.\n",
    "# You can change this threshold to be lower if you are tolerant of less certain values in your data set.\n",
    "groupThreshold = 0.95\n",
    "\n",
    "# each line of the Comprehend output in an independent JSON formatted record\n",
    "for line in jsonlines:\n",
    "    jsonl = json.loads(line)\n",
    "    \n",
    "    # Create a node for the source document\n",
    "    document_id = jsonl[\"File\"] + \"_\" + str(jsonl[\"Line\"])\n",
    "    print(\"document id:\", document_id)\n",
    "    documentNode = Vertex()\n",
    "    documentNode.setEntityType(\"DOCUMENT\")\n",
    "    documentNode.setPrimaryName(document_id)\n",
    "    documentNode.addWord(\"File \" + jsonl[\"File\"] + \"; Line \" + str(jsonl[\"Line\"]) + \";\")\n",
    "    documentNode.setId(\"node__document_\" + document_id)\n",
    "    nodeList.append(documentNode)\n",
    "    # Comprehend Events references entities it refers to by index, so we need to retain the ordered list of entities\n",
    "    # within the document\n",
    "    docEntityList = []\n",
    "    \n",
    "    for entity in jsonl[\"Entities\"]:\n",
    "        # convert each object under the \"Entities\" list into a Node\n",
    "        theEntity = Vertex()\n",
    "        theEntity.setPrimaryName(entity[\"Mentions\"][0][\"Text\"])\n",
    "        theEntity.setEntityType(entity[\"Mentions\"][0][\"Type\"])\n",
    "        theEntity.setId(\"node__\" + entity[\"Mentions\"][0][\"Type\"] + \"_\" + entity[\"Mentions\"][0][\"Text\"])\n",
    "        for mention in entity[\"Mentions\"]:\n",
    "            if (mention[\"GroupScore\"] >= groupThreshold):\n",
    "                theEntity.addWord(mention[\"Text\"])\n",
    "\n",
    "        docEntityList.append(theEntity)\n",
    "        nodeList.append(theEntity)\n",
    "        \n",
    "    for event in jsonl[\"Events\"]:\n",
    "        #convert each object under the \"Events\" list to a Node\n",
    "        theEntity = Vertex()\n",
    "        theEntity.setEntityType(event[\"Type\"])\n",
    "        theEntity.setPrimaryName(event[\"Triggers\"][0][\"Text\"])\n",
    "        theEntity.setId(\"node__event_\" + document_id + \"_\" + event[\"Type\"] + \"_\" + event[\"Triggers\"][0][\"Text\"] + str(event[\"Triggers\"][0][\"BeginOffset\"]))\n",
    "        for trigger in event[\"Triggers\"]:\n",
    "            theEntity.addWord(trigger[\"Text\"])\n",
    "\n",
    "        nodeList.append(theEntity)\n",
    "\n",
    "        # add edges between the event node and the entity node, \n",
    "        # annotated with a label describing the Comprehend Event role assigned to the entity in the event.\n",
    "        for argument in event[\"Arguments\"]:\n",
    "            edgeList.append(Edge(theEntity, docEntityList[argument[\"EntityIndex\"]], argument[\"Role\"]))\n",
    "        \n",
    "        # add an edge between the document and the event nodes\n",
    "        edgeList.append(Edge(documentNode, theEntity, \"EVENT\"))\n",
    "        \n",
    "# write all of our nodes to a CSV file\n",
    "with open('bulk-load-nodes.csv', 'w', newline='') as csvfile:\n",
    "    writer = csv.writer(csvfile)\n",
    "    writer.writerow(['~id','~label','primaryName','names'])\n",
    "    for node in nodeList:\n",
    "        for word in node.words:\n",
    "            # there will be a row for each word assigned to the entity, \n",
    "            # but Neptune will aggregate them into single set of words on the node\n",
    "            writer.writerow([node.id, node.entityType, node.primaryName, word])\n",
    "\n",
    "# write all of our nodes to a CSV file\n",
    "with open('bulk-load-edges.csv', 'w', newline='') as csvfile:\n",
    "    writer = csv.writer(csvfile)\n",
    "    writer.writerow(['~id','~from','~to','~label'])\n",
    "    for edge in edgeList:\n",
    "        writer.writerow([edge.getId(), edge.fromEntity.id, edge.toEntity.id, edge.edgeType])\n",
    "\n",
    "print(\"Complete\")"
   ]
  },
  {
   "cell_type": "markdown",
   "metadata": {},
   "source": [
    "<p>Similar to the cell above, we will transform that same Comprehend Events output into RDF NTriple file format used by Neptune for bulk loading.  This file will be saved locally in the working directory as bulk-load.nt.  Now execute the cell below and again you should see the word \"Complete\" in the cell output to indicate it ran successfully </p>"
   ]
  },
  {
   "cell_type": "code",
   "execution_count": 3,
   "metadata": {},
   "outputs": [
    {
     "name": "stdout",
     "output_type": "stream",
     "text": [
      "Complete\n"
     ]
    }
   ],
   "source": [
    "import sys\n",
    "import boto3\n",
    "import json\n",
    "import urllib\n",
    "import rdflib\n",
    "from rdflib.namespace import XSD\n",
    "\n",
    "s3 = boto3.resource('s3')\n",
    "\n",
    "# We have stored the Comprehend output for our dataset into a public S3 bucket.\n",
    "s3bucket = 'aws-neptune-customer-samples'\n",
    "s3path = 'knowledge-graph-unstructured/sample_finance_dataset.txt.out'\n",
    "\n",
    "obj = s3.Object(s3bucket, s3path)\n",
    "# The Comprehend output is in JSON lines format\n",
    "jsonlines = obj.get()['Body'].iter_lines()\n",
    "\n",
    "g = rdflib.Graph()\n",
    "\n",
    "# We are using \"example.org\" as our namespace in this example.\n",
    "ns_base = \"http://example.org/\"\n",
    "entity_type_base = ns_base + \"entities\"\n",
    "role_type_base = ns_base + \"roles\"\n",
    "\n",
    "# These are constant URIs for various properties on our entities\n",
    "rel_primaryName = rdflib.URIRef(ns_base + \"relations/primaryName\")\n",
    "rel_name = rdflib.URIRef(ns_base + \"relations/name\")\n",
    "rel_event = rdflib.URIRef(ns_base + \"relations/event\")\n",
    "rel_filename = rdflib.URIRef(ns_base + \"relations/filename\")\n",
    "rel_linenumber = rdflib.URIRef(ns_base + \"relations/lineNumber\")\n",
    "\n",
    "# We will filter out names referring to each entity with less than 0.95 group certainty.\n",
    "# You can change this threshold to be lower if you are tolerant of less certain values in your data set.\n",
    "groupThreshold = 0.95\n",
    "\n",
    "# each line of the Comprehend output in an independent JSON formatted record\n",
    "for line in jsonlines:\n",
    "    jsonl = json.loads(line)\n",
    "\n",
    "    document_id = jsonl[\"File\"] + \"_\" + str(jsonl[\"Line\"])\n",
    "    theDocumentUri = rdflib.URIRef(entity_type_base + \"/document/\" + urllib.parse.quote(document_id))\n",
    "    g.add((theDocumentUri, rdflib.RDF.type, rdflib.URIRef(entity_type_base + \"/document\")))\n",
    "    g.add((theDocumentUri, rel_filename, rdflib.Literal(jsonl[\"File\"])))\n",
    "    g.add((theDocumentUri, rdflib.RDF.type, rdflib.Literal(jsonl[\"Line\"])))\n",
    "        \n",
    "    # Comprehend Events references entities it refers to by index, so we need to retain the ordered list of entities\n",
    "    # within the document    \n",
    "    docEntityList = []\n",
    "\n",
    "    for entity in jsonl[\"Entities\"]:\n",
    "        # convert each object under the \"Entities\" list into a Node\n",
    "        entityName = entity[\"Mentions\"][0][\"Text\"]\n",
    "        entityType = entity[\"Mentions\"][0][\"Type\"]\n",
    "        theEntityUri = rdflib.URIRef(entity_type_base + \"/\" + entityType.lower() + \"/\" + urllib.parse.quote(entityName.lower()))\n",
    "        g.add((theEntityUri, rdflib.RDF.type, rdflib.URIRef(entity_type_base + \"/\" + entityType.lower())))\n",
    "        g.add((theEntityUri, rel_primaryName, rdflib.Literal(entityName)))\n",
    "        \n",
    "        for mention in entity[\"Mentions\"]:\n",
    "            if (mention[\"GroupScore\"] >= groupThreshold):\n",
    "                g.add((theEntityUri, rel_name, rdflib.Literal(mention[\"Text\"])))\n",
    "\n",
    "        docEntityList.append(theEntityUri)\n",
    "\n",
    "    for event in jsonl[\"Events\"]:\n",
    "        # convert each object under the \"Events\" list into a Node\n",
    "        entityType = event[\"Type\"]\n",
    "        entityPrimaryName = event[\"Triggers\"][0][\"Text\"]\n",
    "        theEventEntityUri = rdflib.URIRef(ns_base + \"entities/\" + document_id + \"/\" + entityType.lower() + \"/\" + urllib.parse.quote(entityPrimaryName.lower()) + \"/\" + str(event[\"Triggers\"][0][\"BeginOffset\"]))\n",
    "        g.add((theEventEntityUri, rdflib.RDF.type, rdflib.URIRef(entity_type_base + \"/events/\" + entityType.lower())))\n",
    "        g.add((theEventEntityUri, rel_primaryName, rdflib.Literal(entityPrimaryName)))\n",
    "        # add an edge between the document and the event nodes\n",
    "        g.add((theDocumentUri, rel_event, theEventEntityUri))\n",
    "        for trigger in event[\"Triggers\"]:\n",
    "            g.add((theEventEntityUri, rel_name, rdflib.Literal(trigger[\"Text\"])))\n",
    "\n",
    "        for argument in event[\"Arguments\"]:\n",
    "            # add relationships between the event node and the entity node, \n",
    "            # the relationship URI describing the Comprehend Event role assigned to the entity in the event.\n",
    "            role = argument[\"Role\"]\n",
    "            roleUri = rdflib.URIRef(role_type_base + \"/\" + role.lower())\n",
    "            g.add((theEventEntityUri, roleUri, docEntityList[argument[\"EntityIndex\"]]))\n",
    "\n",
    "# In RDF, we do not need to separate edges and nodes into separate files as everything is a triple\n",
    "g.serialize(format=\"nt\", destination=\"bulk-load.nt\")\n",
    "print(\"Complete\")"
   ]
  },
  {
   "cell_type": "markdown",
   "metadata": {},
   "source": [
    "<p>Now that we have created our bulk loader files, we need to copy this data into an S3 bucket that we created to use for loading into Neptune. We created several required pieces of infrastructure in addition to the bucket for you.  These items are:\n",
    "    <ul><li>An IAM role attached to the Neptune cluster giving it permission to access this bucket.</li>\n",
    "        <li>We added an IAM policy to this Notebook instance giving it permission to access this bucket.</li>\n",
    "        <li>We created a S3 VPC endpoint and attached it to the Neptune VPC to give it access to S3</li>\n",
    "        <li>We injected the name of the bucket we created into this notebook instance as an environment variable called \"S3_WORKING_BUCKET\". This value can also be found in the Outputs section of the CloudFormation stack.</li>\n",
    "    </ul>\n",
    "\n",
    "<p>This shell script will use the AWS Command Line Interface (CLI) to copy the existing files into the S3 bucket. It will also output two S3 paths that we will use in the next section where we call the Neptune Bulk Loader API using Notebook magics included in the Neptune Workbench.</p>"
   ]
  },
  {
   "cell_type": "code",
   "execution_count": 4,
   "metadata": {
    "scrolled": true
   },
   "outputs": [
    {
     "name": "stdout",
     "output_type": "stream",
     "text": [
      "upload: ./bulk-load-edges.csv to s3://neptunekgunstructured-s3workingbucket-43dciguuwrxc/pg/bulk-load-edges.csv\n",
      "upload: ./bulk-load-nodes.csv to s3://neptunekgunstructured-s3workingbucket-43dciguuwrxc/pg/bulk-load-nodes.csv\n",
      "upload: ./bulk-load.nt to s3://neptunekgunstructured-s3workingbucket-43dciguuwrxc/rdf/bulk-load.nt\n",
      "The path for the Property Graph bulk loading step is 's3://neptunekgunstructured-s3workingbucket-43dciguuwrxc/pg/'\n",
      "The path for the RDF bulk loading is 's3://neptunekgunstructured-s3workingbucket-43dciguuwrxc/rdf/'\n"
     ]
    }
   ],
   "source": [
    "%%bash\n",
    "\n",
    "aws s3 cp ./bulk-load-edges.csv s3://$S3_WORKING_BUCKET/pg/bulk-load-edges.csv\n",
    "aws s3 cp ./bulk-load-nodes.csv s3://$S3_WORKING_BUCKET/pg/bulk-load-nodes.csv                                                                                        \n",
    "aws s3 cp ./bulk-load.nt s3://$S3_WORKING_BUCKET/rdf/bulk-load.nt\n",
    "\n",
    "echo \"The path for the Property Graph bulk loading step is 's3://$S3_WORKING_BUCKET/pg/'\"\n",
    "echo \"The path for the RDF bulk loading is 's3://$S3_WORKING_BUCKET/rdf/'\"\n"
   ]
  },
  {
   "cell_type": "markdown",
   "metadata": {},
   "source": [
    "<H2> Section 2:  Loading the Graph Data into Neptune </H2>\n",
    "\n",
    "<p>The Neptune Workbench \"load\" magic gives us a form to bulk load data into our Neptune cluster.\n",
    "(see <a href=\"https://docs.aws.amazon.com/neptune/latest/userguide/notebooks-magics.html#notebooks-line-magics-load\">https://docs.aws.amazon.com/neptune/latest/userguide/notebooks-magics.html#notebooks-line-magics-load</a> for more information).  We need to run the cell below twice.  The first run will load the property graph files and then we will run it again to load the RDF file.  </p>\n",
    "\n",
    "<p>To load the Property Graph, we will execute the cell below and that will present a form.  Use the following values in the form:<br />\n",
    "    <b>S3 folder</b>: Find the path from the Property Graph bulk loading in the output of the previous step<br />\n",
    "    <b>Format</b>: csv <br />\n",
    "The remaining defaults can be left as shown.  Then click the \"Submit\" button.<br /></p>\n",
    "\n",
    "<p>After the status turns to \"LOAD_COMPLETED\", we will execute the cell again to load RDF.  This time we will use these values: <br />\n",
    "    <b>S3 folder</b>: Find the path from the RDF bulk loading in the output of the previous step <br />\n",
    "    <b>Format</b>: ntriples <br />\n",
    "The remaining defaults can be left as shown.  Again click the \"Submit\" button and wait for the \"LOAD_COMPLETED\" status to show.<br /></p>"
   ]
  },
  {
   "cell_type": "code",
   "execution_count": 8,
   "metadata": {},
   "outputs": [
    {
     "data": {
      "application/vnd.jupyter.widget-view+json": {
       "model_id": "1a3a81a77c814c39a18541c2e59114f5",
       "version_major": 2,
       "version_minor": 0
      },
      "text/plain": [
       "HBox(children=(Text(value='s3://', description='Source:', placeholder='Type something'),))"
      ]
     },
     "metadata": {},
     "output_type": "display_data"
    },
    {
     "data": {
      "application/vnd.jupyter.widget-view+json": {
       "model_id": "6d6bd20753514b978c2835e52b542810",
       "version_major": 2,
       "version_minor": 0
      },
      "text/plain": [
       "HBox(children=(Dropdown(description='Format:', options=('', 'csv', 'ntriples', 'nquads', 'rdfxml', 'turtle'), …"
      ]
     },
     "metadata": {},
     "output_type": "display_data"
    },
    {
     "data": {
      "application/vnd.jupyter.widget-view+json": {
       "model_id": "8a308a6b27484aca8b6bc9d4dcd6088b",
       "version_major": 2,
       "version_minor": 0
      },
      "text/plain": [
       "Text(value='us-east-1', description='AWS Region:', placeholder='us-east-1')"
      ]
     },
     "metadata": {},
     "output_type": "display_data"
    },
    {
     "data": {
      "application/vnd.jupyter.widget-view+json": {
       "model_id": "2c2dcf309cce4b4e804ecea0b7c3571b",
       "version_major": 2,
       "version_minor": 0
      },
      "text/plain": [
       "HBox(children=(Text(value='arn:aws:iam::093729152554:role/NeptuneKGUnstructured-Neptun-NeptuneLoadFromS3Role-G…"
      ]
     },
     "metadata": {},
     "output_type": "display_data"
    },
    {
     "data": {
      "application/vnd.jupyter.widget-view+json": {
       "model_id": "70f5fb3c25ea412693f55dc7a3a436da",
       "version_major": 2,
       "version_minor": 0
      },
      "text/plain": [
       "Dropdown(description='Mode:', index=2, options=('RESUME', 'NEW', 'AUTO'), value='AUTO')"
      ]
     },
     "metadata": {},
     "output_type": "display_data"
    },
    {
     "data": {
      "application/vnd.jupyter.widget-view+json": {
       "model_id": "052342b5d61b4a0c8c97e9d19233ceff",
       "version_major": 2,
       "version_minor": 0
      },
      "text/plain": [
       "Dropdown(description='Fail on Failure: ', index=1, options=('TRUE', 'FALSE'), value='FALSE')"
      ]
     },
     "metadata": {},
     "output_type": "display_data"
    },
    {
     "data": {
      "application/vnd.jupyter.widget-view+json": {
       "model_id": "e28a42e600f040eaa032ff013396d9da",
       "version_major": 2,
       "version_minor": 0
      },
      "text/plain": [
       "Dropdown(description='Parallelism:', index=2, options=('LOW', 'MEDIUM', 'HIGH', 'OVERSUBSCRIBE'), value='HIGH'…"
      ]
     },
     "metadata": {},
     "output_type": "display_data"
    },
    {
     "data": {
      "application/vnd.jupyter.widget-view+json": {
       "model_id": "31bef7ea247d4a28abd76b311a2f58c0",
       "version_major": 2,
       "version_minor": 0
      },
      "text/plain": [
       "Dropdown(description='Update Single Cardinality:', options=('TRUE', 'FALSE'), value='TRUE')"
      ]
     },
     "metadata": {},
     "output_type": "display_data"
    },
    {
     "data": {
      "application/vnd.jupyter.widget-view+json": {
       "model_id": "35397bf76fe840b392c813776faf2598",
       "version_major": 2,
       "version_minor": 0
      },
      "text/plain": [
       "Dropdown(description='Queue Request:', index=1, options=('TRUE', 'FALSE'), value='FALSE')"
      ]
     },
     "metadata": {},
     "output_type": "display_data"
    },
    {
     "data": {
      "application/vnd.jupyter.widget-view+json": {
       "model_id": "f7ab5e234b434675b0fbc8268cc8842f",
       "version_major": 2,
       "version_minor": 0
      },
      "text/plain": [
       "HBox(children=(Textarea(value='', description='Dependencies:', placeholder='load_A_id\\nload_B_id'),))"
      ]
     },
     "metadata": {},
     "output_type": "display_data"
    },
    {
     "data": {
      "application/vnd.jupyter.widget-view+json": {
       "model_id": "5242a63396db418fb9b521bb929a66b9",
       "version_major": 2,
       "version_minor": 0
      },
      "text/plain": [
       "Button(description='Submit', style=ButtonStyle())"
      ]
     },
     "metadata": {},
     "output_type": "display_data"
    },
    {
     "data": {
      "application/vnd.jupyter.widget-view+json": {
       "model_id": "598e3ba483af4c6d82336844a80bae88",
       "version_major": 2,
       "version_minor": 0
      },
      "text/plain": [
       "Output()"
      ]
     },
     "metadata": {},
     "output_type": "display_data"
    }
   ],
   "source": [
    "%load"
   ]
  },
  {
   "cell_type": "markdown",
   "metadata": {},
   "source": [
    "<H2>Section 3: Querying the Graph in Neptune</H2>\n",
    "\n",
    "<p>Now that we have data loaded, we can run Gremlin and SPARQL queries analyze the property graph and RDF graph versions of the data, respectively.  Execute the cell below to run a Gremlin query that will show us our top 6 organizations in order of decreasing number of incoming edges (e.g., number of financial events they were associated with). <p>"
   ]
  },
  {
   "cell_type": "code",
   "execution_count": 7,
   "metadata": {
    "scrolled": true
   },
   "outputs": [
    {
     "data": {
      "application/vnd.jupyter.widget-view+json": {
       "model_id": "625b0199e33c47e79d60e2225c0a8e32",
       "version_major": 2,
       "version_minor": 0
      },
      "text/plain": [
       "Tab(children=(Output(layout=Layout(max_height='600px', overflow='scroll', width='100%')), Output(layout=Layout…"
      ]
     },
     "metadata": {},
     "output_type": "display_data"
    }
   ],
   "source": [
    "%%gremlin\n",
    "\n",
    "g.V().hasLabel('ORGANIZATION').\n",
    "  order().\n",
    "  by(inE().count(),decr).\n",
    "  limit(6).\n",
    "  project('primaryName','edgeCount','nodeId').\n",
    "    by('primaryName').\n",
    "    by(inE().count()).\n",
    "    by(T.id)"
   ]
  },
  {
   "cell_type": "markdown",
   "metadata": {},
   "source": [
    "<p>This query will perform the same work in SPARQL as the Gremlin query above against our RDF graph.</p>"
   ]
  },
  {
   "cell_type": "code",
   "execution_count": 2,
   "metadata": {
    "scrolled": true
   },
   "outputs": [
    {
     "data": {
      "application/vnd.jupyter.widget-view+json": {
       "model_id": "97aad501f6eb44f8b390af55a65cd5b9",
       "version_major": 2,
       "version_minor": 0
      },
      "text/plain": [
       "Tab(children=(Output(layout=Layout(max_height='600px', overflow='scroll', width='100%')), Output(layout=Layout…"
      ]
     },
     "metadata": {},
     "output_type": "display_data"
    }
   ],
   "source": [
    "%%sparql\n",
    "\n",
    "PREFIX rdf: <http://www.w3.org/1999/02/22-rdf-syntax-ns#>\n",
    "PREFIX entities: <http://example.org/entities/>\n",
    "PREFIX rels: <http://example.org/relations/>\n",
    "\n",
    "SELECT DISTINCT ?org (COUNT(*) as ?cnt) WHERE {\n",
    "    ?org rdf:type entities:organization .\n",
    "    ?event ?role ?org .\n",
    "} GROUP BY ?org ?name\n",
    "ORDER BY DESC(?cnt)\n",
    "LIMIT 6"
   ]
  },
  {
   "cell_type": "markdown",
   "metadata": {},
   "source": [
    "<p>In both cases, you notice that we actually have 3 different entities that were found that all refer to Amazon. \"Amazon\", \"Amazon.com, Inc.\", and \"Amazon Web Services\" as all listed as separate companies, but in the steps below we will query them all together.</p>\n",
    "\n",
    "<H3>Visualizing the results</H3>\n",
    "\n",
    "<p> In this next cell, we are utilizing the visualization capabilities of Neptune Workbench to show all of the events extracted by Comprehend that are linking Amazon and Whole Foods Market in our corpus. After running the cell, click the Graph tab to view the graph.</p>"
   ]
  },
  {
   "cell_type": "code",
   "execution_count": 1,
   "metadata": {},
   "outputs": [
    {
     "data": {
      "application/vnd.jupyter.widget-view+json": {
       "model_id": "cbb0b239ceb84dada8f0e6785990a789",
       "version_major": 2,
       "version_minor": 0
      },
      "text/plain": [
       "Tab(children=(Output(layout=Layout(max_height='600px', overflow='scroll', width='100%')), Force(network=<graph…"
      ]
     },
     "metadata": {},
     "output_type": "display_data"
    }
   ],
   "source": [
    "%%gremlin -p v,ine,outv,oute,inv\n",
    "\n",
    "g.V(['node__organization_amazon','node__organization_amazon.com,_inc.','node__organization_amazon.com']).as('amazon').\n",
    "    inE().as('roleEdge').\n",
    "    outV().as('eventNode').\n",
    "    outE().as('otherRoleEdge').\n",
    "    inV().hasId('node__organization_whole_foods_market').as('otherOrg').\n",
    "    path().by('primaryName').by().by().by().by('primaryName')"
   ]
  },
  {
   "cell_type": "markdown",
   "metadata": {},
   "source": [
    "<p>We include the cell below to show a similiar representation of this query in SPARQL.</p>"
   ]
  },
  {
   "cell_type": "code",
   "execution_count": 9,
   "metadata": {},
   "outputs": [
    {
     "data": {
      "application/vnd.jupyter.widget-view+json": {
       "model_id": "2ac85af8598945e9ba7fd22e65b4076b",
       "version_major": 2,
       "version_minor": 0
      },
      "text/plain": [
       "Tab(children=(Output(layout=Layout(max_height='600px', overflow='scroll', width='100%')), Output(layout=Layout…"
      ]
     },
     "metadata": {},
     "output_type": "display_data"
    }
   ],
   "source": [
    "%%sparql\n",
    "\n",
    "PREFIX rdf: <http://www.w3.org/1999/02/22-rdf-syntax-ns#>\n",
    "PREFIX entities: <http://example.org/entities/>\n",
    "PREFIX rels: <http://example.org/relations/>\n",
    "PREFIX org: <http://example.org/entities/organization/>\n",
    "\n",
    "SELECT ?role_1 ?event_type ?role_2 WHERE {\n",
    "    VALUES ?start {<http://example.org/entities/organization/amazon> <http://example.org/entities/organization/amazon.com%2C%20inc.> <http://example.org/entities/organization/amazon.com>}\n",
    "    ?event ?role_1 ?start .\n",
    "    ?event rdf:type ?event_type .\n",
    "    ?event ?role_2 <http://example.org/entities/organization/whole%20foods%20market> .\n",
    "}"
   ]
  },
  {
   "cell_type": "markdown",
   "metadata": {},
   "source": [
    "<H3>Reporting on the results</H3>\n",
    "\n",
    "<p>While it is nice to visualize the path through the data for exploration, for reporting purposes instead we will create a list of all of the relationships between Amazon and Whole Foods Markets with a count of the number of occurrences of each path. We will use the visualized graph above to confirm the counts are correct in our report.</p>\n",
    "\n",
    "<p>Execute the Gremlin query below to create our report.</p>"
   ]
  },
  {
   "cell_type": "code",
   "execution_count": 11,
   "metadata": {
    "scrolled": true
   },
   "outputs": [
    {
     "data": {
      "application/vnd.jupyter.widget-view+json": {
       "model_id": "030a0285fefa4492b9f83a573e19051a",
       "version_major": 2,
       "version_minor": 0
      },
      "text/plain": [
       "Tab(children=(Output(layout=Layout(max_height='600px', overflow='scroll', width='100%')), Output(layout=Layout…"
      ]
     },
     "metadata": {},
     "output_type": "display_data"
    }
   ],
   "source": [
    "%%gremlin\n",
    "\n",
    "g.V(['node__organization_amazon','node__organization_amazon.com,_inc.','node__organization_amazon.com']).as('amazon').\n",
    "    inE().as('roleEdge').\n",
    "    outV().as('eventNode').\n",
    "    outE().as('otherRoleEdge').\n",
    "    inV().hasId('node__organization_whole_foods_market').as('otherOrg').\n",
    "    groupCount().by(path().from('roleEdge').to('otherRoleEdge').by(label))"
   ]
  },
  {
   "cell_type": "markdown",
   "metadata": {},
   "source": [
    "<p>Here you can execute that same report in SPARQL format. The answers will be the same in either flavor.</p>"
   ]
  },
  {
   "cell_type": "code",
   "execution_count": 10,
   "metadata": {
    "scrolled": true
   },
   "outputs": [
    {
     "data": {
      "application/vnd.jupyter.widget-view+json": {
       "model_id": "cf0dec38a43849ffbb83546aa30ad168",
       "version_major": 2,
       "version_minor": 0
      },
      "text/plain": [
       "Tab(children=(Output(layout=Layout(max_height='600px', overflow='scroll', width='100%')), Output(layout=Layout…"
      ]
     },
     "metadata": {},
     "output_type": "display_data"
    }
   ],
   "source": [
    "%%sparql\n",
    "\n",
    "PREFIX rdf: <http://www.w3.org/1999/02/22-rdf-syntax-ns#>\n",
    "PREFIX entities: <http://example.org/entities/>\n",
    "PREFIX rels: <http://example.org/relations/>\n",
    "PREFIX org: <http://example.org/entities/organization/>\n",
    "\n",
    "SELECT ?role_1 ?event_type ?role_2 (COUNT(*) as ?cnt) WHERE {\n",
    "    VALUES ?start {<http://example.org/entities/organization/amazon> <http://example.org/entities/organization/amazon.com%2C%20inc.> <http://example.org/entities/organization/amazon.com>}\n",
    "    ?event ?role_1 ?start .\n",
    "    ?event rdf:type ?event_type .\n",
    "    ?event ?role_2 <http://example.org/entities/organization/whole%20foods%20market> .\n",
    "} GROUP BY ?role_1 ?event_type ?role_2\n",
    "ORDER BY DESC(?cnt)"
   ]
  },
  {
   "cell_type": "markdown",
   "metadata": {},
   "source": [
    "<p>You can see from the reports that of the 6 events, 3 are CORPORATE_ACQUISITION events where Amazon was in the INVESTOR role and Whole Foods Market in the INVESTEE role, 1 is CORPORATE_MERGER where Amazon and Whole Foods Market are both in the  PARTICIPANT role, and 2 are INVESTMENT_GENERAL events with Amazon in the INVESTOR role and Whole Foods Market in the INVESTEE role.  Again, you can confirm this with the visualized graph we saw previously (you can mouse over nodes with truncated text to see the full value).</p>\n",
    "\n",
    "<H2>Cleaning Up</H2>\n",
    "<p>For our last step, we will remove the bulk load files that we copied into the S3 bucket. This is not required if you will continue to use this infrastructure, but the CloudFormation script will only delete the working bucket if it is empty. Execute the cell below to call the AWS CLI to delete all of the files and folders in our bucket</p>"
   ]
  },
  {
   "cell_type": "code",
   "execution_count": 12,
   "metadata": {},
   "outputs": [
    {
     "name": "stdout",
     "output_type": "stream",
     "text": [
      "delete: s3://neptunekgunstructured-s3workingbucket-43dciguuwrxc/pg/bulk-load-edges.csv\n",
      "delete: s3://neptunekgunstructured-s3workingbucket-43dciguuwrxc/pg/bulk-load-nodes.csv\n",
      "delete: s3://neptunekgunstructured-s3workingbucket-43dciguuwrxc/rdf/bulk-load.nt\n"
     ]
    }
   ],
   "source": [
    "%%bash\n",
    "\n",
    "aws s3 rm s3://$S3_WORKING_BUCKET/ --recursive"
   ]
  },
  {
   "cell_type": "markdown",
   "metadata": {},
   "source": [
    "<H2>Conclusion</H2>\n",
    "<p>We just saw how we can create our own Knowledge Graph from unstructured content using Amazon Comprehend Events and Amazon Neptune. You can use this as a base for your Knowledge Graph adding your own unstructured sources and even transforming your structured data into nodes and relationships linking it all together. Other similar use cases that this can be leveraged for are “Know your Customer” (KYC) and Customer 360/Identity Graphs. How can your business unlock the entities and relationships in your unstructured text and use it as a strategic advantage? The Comprehend and Neptune teams would love to hear about it and are available to discuss it further if you need us.</p> "
   ]
  }
 ],
 "metadata": {
  "kernelspec": {
   "display_name": "Python 3",
   "language": "python",
   "name": "python3"
  },
  "language_info": {
   "codemirror_mode": {
    "name": "ipython",
    "version": 3
   },
   "file_extension": ".py",
   "mimetype": "text/x-python",
   "name": "python",
   "nbconvert_exporter": "python",
   "pygments_lexer": "ipython3",
   "version": "3.6.13"
  },
  "widgets": {
   "application/vnd.jupyter.widget-state+json": {
    "state": {
     "00186b061d4442a1abcd40237888cff3": {
      "model_module": "@jupyter-widgets/base",
      "model_module_version": "1.2.0",
      "model_name": "LayoutModel",
      "state": {}
     },
     "04b327d76ea24b59a7c1881bce581b5d": {
      "model_module": "@jupyter-widgets/base",
      "model_module_version": "1.2.0",
      "model_name": "LayoutModel",
      "state": {}
     },
     "0531c4ac5e364bceb1f0e2975d46fd3b": {
      "model_module": "@jupyter-widgets/controls",
      "model_module_version": "1.5.0",
      "model_name": "DropdownModel",
      "state": {
       "_options_labels": [
        "",
        "csv",
        "ntriples",
        "nquads",
        "rdfxml",
        "turtle"
       ],
       "description": "Format: ",
       "index": 2,
       "layout": "IPY_MODEL_df96e7ca8a774bddaf9fc00ee3d39251",
       "style": "IPY_MODEL_518035f1a474460d867c829d37c14062"
      }
     },
     "054dc5d05fd64d4cb1993d2e15741d65": {
      "model_module": "@jupyter-widgets/base",
      "model_module_version": "1.2.0",
      "model_name": "LayoutModel",
      "state": {}
     },
     "086471e04a25420a96bbd5f12fd30570": {
      "model_module": "@jupyter-widgets/controls",
      "model_module_version": "1.5.0",
      "model_name": "HBoxModel",
      "state": {
       "children": [
        "IPY_MODEL_46a7226852564e4fa2d8a60068b3b942"
       ],
       "layout": "IPY_MODEL_50d96d0de13e407881ec00b60c67ff41"
      }
     },
     "091ae99491e84829a77f6ebcc99e6c38": {
      "model_module": "@jupyter-widgets/output",
      "model_module_version": "1.0.0",
      "model_name": "OutputModel",
      "state": {
       "layout": "IPY_MODEL_325d06be386140a29fd419ac2d7a6358",
       "outputs": [
        {
         "name": "stdout",
         "output_type": "stream",
         "text": "{\n  \"head\": {\n    \"vars\": [\n      \"role_1\",\n      \"event_type\",\n      \"role_2\",\n      \"cnt\"\n    ]\n  },\n  \"results\": {\n    \"bindings\": [\n      {\n        \"role_1\": {\n          \"type\": \"uri\",\n          \"value\": \"http://example.org/roles/investor\"\n        },\n        \"event_type\": {\n          \"type\": \"uri\",\n          \"value\": \"http://example.org/entities/events/corporate_acquisition\"\n        },\n        \"role_2\": {\n          \"type\": \"uri\",\n          \"value\": \"http://example.org/roles/investee\"\n        },\n        \"cnt\": {\n          \"datatype\": \"http://www.w3.org/2001/XMLSchema#integer\",\n          \"type\": \"literal\",\n          \"value\": \"3\"\n        }\n      },\n      {\n        \"role_1\": {\n          \"type\": \"uri\",\n          \"value\": \"http://example.org/roles/investor\"\n        },\n        \"event_type\": {\n          \"type\": \"uri\",\n          \"value\": \"http://example.org/entities/events/investment_general\"\n        },\n        \"role_2\": {\n          \"type\": \"uri\",\n          \"value\": \"http://example.org/roles/investee\"\n        },\n        \"cnt\": {\n          \"datatype\": \"http://www.w3.org/2001/XMLSchema#integer\",\n          \"type\": \"literal\",\n          \"value\": \"2\"\n        }\n      },\n      {\n        \"role_1\": {\n          \"type\": \"uri\",\n          \"value\": \"http://example.org/roles/participant\"\n        },\n        \"event_type\": {\n          \"type\": \"uri\",\n          \"value\": \"http://example.org/entities/events/corporate_merger\"\n        },\n        \"role_2\": {\n          \"type\": \"uri\",\n          \"value\": \"http://example.org/roles/participant\"\n        },\n        \"cnt\": {\n          \"datatype\": \"http://www.w3.org/2001/XMLSchema#integer\",\n          \"type\": \"literal\",\n          \"value\": \"1\"\n        }\n      }\n    ]\n  }\n}\n"
        }
       ]
      }
     },
     "0a720368158c494cb40225c9853f18ce": {
      "model_module": "@jupyter-widgets/base",
      "model_module_version": "1.2.0",
      "model_name": "LayoutModel",
      "state": {}
     },
     "0aba27f051a148f89fd793238a3f652d": {
      "model_module": "@jupyter-widgets/controls",
      "model_module_version": "1.5.0",
      "model_name": "DescriptionStyleModel",
      "state": {
       "description_width": ""
      }
     },
     "0c164b4867bd4098a0f6387517b16417": {
      "model_module": "@jupyter-widgets/base",
      "model_module_version": "1.2.0",
      "model_name": "LayoutModel",
      "state": {}
     },
     "0f1a49a5e66940219a9ae5ac0628c26a": {
      "model_module": "@jupyter-widgets/base",
      "model_module_version": "1.2.0",
      "model_name": "LayoutModel",
      "state": {}
     },
     "0f1aae37517f46b6a4d63b7395cdd291": {
      "model_module": "@jupyter-widgets/base",
      "model_module_version": "1.2.0",
      "model_name": "LayoutModel",
      "state": {}
     },
     "10ada94d2d7c4390a83cf7f05c8c6b97": {
      "model_module": "@jupyter-widgets/base",
      "model_module_version": "1.2.0",
      "model_name": "LayoutModel",
      "state": {}
     },
     "1204e030b2b04d959c0c566c2f30ad3b": {
      "model_module": "@jupyter-widgets/controls",
      "model_module_version": "1.5.0",
      "model_name": "HBoxModel",
      "state": {
       "children": [
        "IPY_MODEL_6196f77909dc49209d12c106f3eb0dfc"
       ],
       "layout": "IPY_MODEL_325d06be386140a29fd419ac2d7a6358"
      }
     },
     "1a0b0eebe2b04e70bc9fc05616b88801": {
      "model_module": "@jupyter-widgets/controls",
      "model_module_version": "1.5.0",
      "model_name": "DescriptionStyleModel",
      "state": {
       "description_width": ""
      }
     },
     "1e6e661a5d94488e95fee8d025dc8237": {
      "model_module": "@jupyter-widgets/base",
      "model_module_version": "1.2.0",
      "model_name": "LayoutModel",
      "state": {}
     },
     "20d3649390614e859d1c27809a9aa47d": {
      "model_module": "@jupyter-widgets/controls",
      "model_module_version": "1.5.0",
      "model_name": "TabModel",
      "state": {
       "layout": "IPY_MODEL_2a99ce5ae2734033bcade808081b1b0d"
      }
     },
     "288bb835d2294715abb86838e2d2ff06": {
      "model_module": "@jupyter-widgets/base",
      "model_module_version": "1.2.0",
      "model_name": "LayoutModel",
      "state": {}
     },
     "2a99ce5ae2734033bcade808081b1b0d": {
      "model_module": "@jupyter-widgets/base",
      "model_module_version": "1.2.0",
      "model_name": "LayoutModel",
      "state": {}
     },
     "2e15103a1f244ae592b9947bc5f7380f": {
      "model_module": "@jupyter-widgets/output",
      "model_module_version": "1.0.0",
      "model_name": "OutputModel",
      "state": {
       "layout": "IPY_MODEL_325d06be386140a29fd419ac2d7a6358",
       "outputs": [
        {
         "data": {
          "text/html": "<div class=\"table-div\">\n    <link rel=\"stylesheet\" type=\"text/css\" href=\"/static/datatables.css\">\n    <style>\n        #table-7af70337 {\n            margin: 0 auto;\n        }\n\n        #table-7af70337 * {\n                      font-size: 1em !important;\n                      font-family: \"Courier New\", Courier, monospace !important;\n                  }\n\n        .sorting, .sorting_asc, .sorting_desc {\n            background : none !important;\n        }\n\n        .table-div {\n            width: 100% !important;\n        }\n\n    </style>\n    <table id=\"table-7af70337\" class=\"nowrap dt-left\" style=\"table-layout: auto; width: 100%;\">\n        <thead>\n        <tr>\n            <th></th>\n            \n            <th style=\"text-align: left\">role_1</th>\n            \n            <th style=\"text-align: left\">event_type</th>\n            \n            <th style=\"text-align: left\">role_2</th>\n            \n            <th style=\"text-align: left\">cnt</th>\n            \n        </tr>\n        </thead>\n        <tbody>\n        \n        <tr class=\"result-row dt-left\">\n            <td>1</td>\n            \n            <td style=\"text-align: left\">http://example.org/roles/investor</td>\n            \n            <td style=\"text-align: left\">http://example.org/entities/events/corporate_acquisition</td>\n            \n            <td style=\"text-align: left\">http://example.org/roles/investee</td>\n            \n            <td style=\"text-align: left\">3</td>\n            \n        </tr>\n        \n        <tr class=\"result-row dt-left\">\n            <td>2</td>\n            \n            <td style=\"text-align: left\">http://example.org/roles/investor</td>\n            \n            <td style=\"text-align: left\">http://example.org/entities/events/investment_general</td>\n            \n            <td style=\"text-align: left\">http://example.org/roles/investee</td>\n            \n            <td style=\"text-align: left\">2</td>\n            \n        </tr>\n        \n        <tr class=\"result-row dt-left\">\n            <td>3</td>\n            \n            <td style=\"text-align: left\">http://example.org/roles/participant</td>\n            \n            <td style=\"text-align: left\">http://example.org/entities/events/corporate_merger</td>\n            \n            <td style=\"text-align: left\">http://example.org/roles/participant</td>\n            \n            <td style=\"text-align: left\">1</td>\n            \n        </tr>\n        \n        </tbody>\n    </table>\n    <script type=\"text/javascript\">\n        require([\"datatables\"], function (datatables) {\n            $('#table-7af70337').DataTable({\n                scrollY: true,\n                scrollX: true,\n                columnDefs: [\n                    {targets: [0], width: \"5%\"},\n                ],\n                bAutoWidth: true\n            });\n        })\n    </script>\n</div>",
          "text/plain": "<IPython.core.display.HTML object>"
         },
         "metadata": {},
         "output_type": "display_data"
        }
       ]
      }
     },
     "31ff362a16a94eee8ca90704f907927a": {
      "model_module": "@jupyter-widgets/base",
      "model_module_version": "1.2.0",
      "model_name": "LayoutModel",
      "state": {}
     },
     "325d06be386140a29fd419ac2d7a6358": {
      "model_module": "@jupyter-widgets/base",
      "model_module_version": "1.2.0",
      "model_name": "LayoutModel",
      "state": {
       "max_height": "600px",
       "overflow": "scroll",
       "width": "100%"
      }
     },
     "35b52d13d5e0463c93a1777342fc61aa": {
      "model_module": "@jupyter-widgets/output",
      "model_module_version": "1.0.0",
      "model_name": "OutputModel",
      "state": {
       "layout": "IPY_MODEL_325d06be386140a29fd419ac2d7a6358",
       "outputs": [
        {
         "data": {
          "text/html": "<div class=\"table-div\">\n    <link rel=\"stylesheet\" type=\"text/css\" href=\"/static/datatables.css\">\n    <style>\n        #table-eb63b390 {\n            margin: 0 auto;\n        }\n\n        #table-eb63b390 * {\n                      font-size: 1em !important;\n                      font-family: \"Courier New\", Courier, monospace !important;\n                  }\n\n        .sorting, .sorting_asc, .sorting_desc {\n            background : none !important;\n        }\n\n        .table-div {\n            width: 100% !important;\n        }\n\n    </style>\n    <table id=\"table-eb63b390\" class=\"nowrap dt-left\" style=\"table-layout: auto; width: 100%;\">\n        <thead>\n        <tr>\n            <th></th>\n            \n            <th style=\"text-align: left\">role_1</th>\n            \n            <th style=\"text-align: left\">event_type</th>\n            \n            <th style=\"text-align: left\">role_2</th>\n            \n        </tr>\n        </thead>\n        <tbody>\n        \n        <tr class=\"result-row dt-left\">\n            <td>1</td>\n            \n            <td style=\"text-align: left\">http://example.org/roles/investor</td>\n            \n            <td style=\"text-align: left\">http://example.org/entities/events/corporate_acquisition</td>\n            \n            <td style=\"text-align: left\">http://example.org/roles/investee</td>\n            \n        </tr>\n        \n        <tr class=\"result-row dt-left\">\n            <td>2</td>\n            \n            <td style=\"text-align: left\">http://example.org/roles/investor</td>\n            \n            <td style=\"text-align: left\">http://example.org/entities/events/corporate_acquisition</td>\n            \n            <td style=\"text-align: left\">http://example.org/roles/investee</td>\n            \n        </tr>\n        \n        <tr class=\"result-row dt-left\">\n            <td>3</td>\n            \n            <td style=\"text-align: left\">http://example.org/roles/investor</td>\n            \n            <td style=\"text-align: left\">http://example.org/entities/events/investment_general</td>\n            \n            <td style=\"text-align: left\">http://example.org/roles/investee</td>\n            \n        </tr>\n        \n        <tr class=\"result-row dt-left\">\n            <td>4</td>\n            \n            <td style=\"text-align: left\">http://example.org/roles/investor</td>\n            \n            <td style=\"text-align: left\">http://example.org/entities/events/investment_general</td>\n            \n            <td style=\"text-align: left\">http://example.org/roles/investee</td>\n            \n        </tr>\n        \n        <tr class=\"result-row dt-left\">\n            <td>5</td>\n            \n            <td style=\"text-align: left\">http://example.org/roles/investor</td>\n            \n            <td style=\"text-align: left\">http://example.org/entities/events/corporate_acquisition</td>\n            \n            <td style=\"text-align: left\">http://example.org/roles/investee</td>\n            \n        </tr>\n        \n        <tr class=\"result-row dt-left\">\n            <td>6</td>\n            \n            <td style=\"text-align: left\">http://example.org/roles/participant</td>\n            \n            <td style=\"text-align: left\">http://example.org/entities/events/corporate_merger</td>\n            \n            <td style=\"text-align: left\">http://example.org/roles/participant</td>\n            \n        </tr>\n        \n        </tbody>\n    </table>\n    <script type=\"text/javascript\">\n        require([\"datatables\"], function (datatables) {\n            $('#table-eb63b390').DataTable({\n                scrollY: true,\n                scrollX: true,\n                columnDefs: [\n                    {targets: [0], width: \"5%\"},\n                ],\n                bAutoWidth: true\n            });\n        })\n    </script>\n</div>",
          "text/plain": "<IPython.core.display.HTML object>"
         },
         "metadata": {},
         "output_type": "display_data"
        }
       ]
      }
     },
     "38091914afc24bdd9479b2b6e89d8f8a": {
      "model_module": "@jupyter-widgets/base",
      "model_module_version": "1.2.0",
      "model_name": "LayoutModel",
      "state": {}
     },
     "3c507f6cd91d47f2ba259bf636a58b4d": {
      "model_module": "@jupyter-widgets/base",
      "model_module_version": "1.2.0",
      "model_name": "LayoutModel",
      "state": {}
     },
     "3ce14cce756c4f95b5ac3872759bffe2": {
      "model_module": "@jupyter-widgets/controls",
      "model_module_version": "1.5.0",
      "model_name": "DescriptionStyleModel",
      "state": {
       "description_width": ""
      }
     },
     "3d9d29db43bc4341ab2dd3b0d964e0d2": {
      "model_module": "@jupyter-widgets/base",
      "model_module_version": "1.2.0",
      "model_name": "LayoutModel",
      "state": {}
     },
     "3ed229fff6304bee8d45b0920e6726d8": {
      "model_module": "@jupyter-widgets/controls",
      "model_module_version": "1.5.0",
      "model_name": "DescriptionStyleModel",
      "state": {
       "description_width": ""
      }
     },
     "40a9f07490cf42a8a8800c3d52637b0b": {
      "model_module": "@jupyter-widgets/base",
      "model_module_version": "1.2.0",
      "model_name": "LayoutModel",
      "state": {}
     },
     "42d88f6622d84c7b9192ff78df5de504": {
      "model_module": "@jupyter-widgets/base",
      "model_module_version": "1.2.0",
      "model_name": "LayoutModel",
      "state": {}
     },
     "47727c1eae23477e8bc2e09c26b7daac": {
      "model_module": "@jupyter-widgets/output",
      "model_module_version": "1.0.0",
      "model_name": "OutputModel",
      "state": {
       "layout": "IPY_MODEL_325d06be386140a29fd419ac2d7a6358",
       "outputs": [
        {
         "data": {
          "text/html": "<div class=\"table-div\">\n    <link rel=\"stylesheet\" type=\"text/css\" href=\"/static/datatables.css\">\n    <style>\n        #table-b8d7a7f8 * {\n              font-size: 1em !important;\n              font-family: \"Courier New\", Courier, monospace !important;\n        }\n\n        .sorting, .sorting_asc, .sorting_desc {\n            background : none !important;\n        }\n\n        .dataTable {\n            width: 100%\n        }\n    </style>\n    <table id=\"table-b8d7a7f8\" class=\"nowrap dt-left\">\n        <thead>\n        <tr>\n            <th></th>\n            <th style=\"text-align: left\">Console</th>\n        </tr>\n        </thead>\n        <tbody>\n        \n        <tr class=\"result-row dt-left\">\n            <td>1</td>\n            <td style=\"text-align: left; width: 100%;\">\n                {&#39;edgeCount&#39;: 270, &#39;nodeId&#39;: &#39;node__organization_amazon&#39;, &#39;primaryName&#39;: &#39;Amazon&#39;}\n            </td>\n        </tr>\n        \n        <tr class=\"result-row dt-left\">\n            <td>2</td>\n            <td style=\"text-align: left; width: 100%;\">\n                {&#39;edgeCount&#39;: 40, &#39;nodeId&#39;: &#39;node__organization_businesses&#39;, &#39;primaryName&#39;: &#39;businesses&#39;}\n            </td>\n        </tr>\n        \n        <tr class=\"result-row dt-left\">\n            <td>3</td>\n            <td style=\"text-align: left; width: 100%;\">\n                {&#39;edgeCount&#39;: 36, &#39;nodeId&#39;: &#39;node__organization_amazon.com,_inc.&#39;, &#39;primaryName&#39;: &#39;Amazon.com, Inc.&#39;}\n            </td>\n        </tr>\n        \n        <tr class=\"result-row dt-left\">\n            <td>4</td>\n            <td style=\"text-align: left; width: 100%;\">\n                {&#39;edgeCount&#39;: 30, &#39;nodeId&#39;: &#39;node__organization_company&#39;, &#39;primaryName&#39;: &#39;company&#39;}\n            </td>\n        </tr>\n        \n        <tr class=\"result-row dt-left\">\n            <td>5</td>\n            <td style=\"text-align: left; width: 100%;\">\n                {&#39;edgeCount&#39;: 18, &#39;nodeId&#39;: &#39;node__organization_whole_foods_market&#39;, &#39;primaryName&#39;: &#39;Whole Foods Market&#39;}\n            </td>\n        </tr>\n        \n        <tr class=\"result-row dt-left\">\n            <td>6</td>\n            <td style=\"text-align: left; width: 100%;\">\n                {&#39;edgeCount&#39;: 13, &#39;nodeId&#39;: &#39;node__organization_amazon.com&#39;, &#39;primaryName&#39;: &#39;Amazon.com&#39;}\n            </td>\n        </tr>\n        \n        </tbody>\n    </table>\n    <script type=\"text/javascript\">\n        require([\"datatables\"], function (datatables) {\n            var dt = $('#table-b8d7a7f8').DataTable({\n                scrollY: true,\n                scrollX: true,\n                columnDefs: [\n                    {targets: [0], width: \"5%\"},\n                    {targets: [1], minWidth: \"95%\"}\n                ]\n            });\n\n            var wrapper = $('#table-b8d7a7f8_wrapper');\n            var inner = wrapper.find('.dataTables_scrollHeadInner');\n            inner.css('width', '100%');\n\n            var scrollTable = inner.find('.dataTable');\n            scrollTable.css('width', '100%');\n\n            $('#table-b8d7a7f8').css('width', 'auto');\n\n        })\n    </script>\n</div>",
          "text/plain": "<IPython.core.display.HTML object>"
         },
         "metadata": {},
         "output_type": "display_data"
        }
       ]
      }
     },
     "4b1e18a57b6c4d18aef021cb2bef4289": {
      "model_module": "@jupyter-widgets/controls",
      "model_module_version": "1.5.0",
      "model_name": "DescriptionStyleModel",
      "state": {
       "description_width": ""
      }
     },
     "4b75da912f08455c9aba911f476b2583": {
      "model_module": "@jupyter-widgets/controls",
      "model_module_version": "1.5.0",
      "model_name": "TabModel",
      "state": {
       "layout": "IPY_MODEL_aec789ab6ecb4a7a9eef692968749b3f"
      }
     },
     "4b782a58c6904014afaf06658b09f674": {
      "model_module": "@jupyter-widgets/controls",
      "model_module_version": "1.5.0",
      "model_name": "TabModel",
      "state": {
       "layout": "IPY_MODEL_790a17d7bed34b5080fb0108a497cd7a"
      }
     },
     "4c84fa830d5144eb9cfadb90ba84933f": {
      "model_module": "@jupyter-widgets/base",
      "model_module_version": "1.2.0",
      "model_name": "LayoutModel",
      "state": {}
     },
     "50d96d0de13e407881ec00b60c67ff41": {
      "model_module": "@jupyter-widgets/base",
      "model_module_version": "1.2.0",
      "model_name": "LayoutModel",
      "state": {}
     },
     "518035f1a474460d867c829d37c14062": {
      "model_module": "@jupyter-widgets/controls",
      "model_module_version": "1.5.0",
      "model_name": "DescriptionStyleModel",
      "state": {
       "description_width": ""
      }
     },
     "54d91847e8c241d68ade0504ec31e42c": {
      "model_module": "@jupyter-widgets/controls",
      "model_module_version": "1.5.0",
      "model_name": "HBoxModel",
      "state": {
       "children": [
        "IPY_MODEL_fa5b01f4eaf94a0fac15d483a169182d"
       ],
       "layout": "IPY_MODEL_38091914afc24bdd9479b2b6e89d8f8a"
      }
     },
     "55a87c14c6004b779ca285d898f7a71d": {
      "model_module": "@jupyter-widgets/base",
      "model_module_version": "1.2.0",
      "model_name": "LayoutModel",
      "state": {}
     },
     "55e8c4d9784443be9133dad57d49f50f": {
      "model_module": "@jupyter-widgets/base",
      "model_module_version": "1.2.0",
      "model_name": "LayoutModel",
      "state": {}
     },
     "58d4441d97264670bef7e842a0be1f31": {
      "model_module": "@jupyter-widgets/controls",
      "model_module_version": "1.5.0",
      "model_name": "TextModel",
      "state": {
       "description": "Source:",
       "layout": "IPY_MODEL_c9059d754a8d4651890efa9fadd49718",
       "placeholder": "Type something",
       "style": "IPY_MODEL_1a0b0eebe2b04e70bc9fc05616b88801",
       "value": "s3://blog-official-test-1-neptunesagem-s3workingbucket-1a2cvjuwjynq2/pg/"
      }
     },
     "5e528acbaaaf4e9b94c5cb792ed9b248": {
      "model_module": "@jupyter-widgets/controls",
      "model_module_version": "1.5.0",
      "model_name": "TabModel",
      "state": {
       "_titles": {
        "0": "Console"
       },
       "children": [
        "IPY_MODEL_ce200d8f798b432db7c8158742c0f493"
       ],
       "layout": "IPY_MODEL_a945de24ab0e47c587509ce15b57eeb3"
      }
     },
     "5f10960684ce4ba598167b8826febb47": {
      "model_module": "@jupyter-widgets/output",
      "model_module_version": "1.0.0",
      "model_name": "OutputModel",
      "state": {
       "layout": "IPY_MODEL_7459dff5eccd4239b06325c05516ed41",
       "outputs": [
        {
         "name": "stdout",
         "output_type": "stream",
         "text": "Overall Status: LOAD_COMPLETED\nDone.\n"
        }
       ]
      }
     },
     "5fd9c79633c54231913d38233265adad": {
      "model_module": "@jupyter-widgets/base",
      "model_module_version": "1.2.0",
      "model_name": "LayoutModel",
      "state": {}
     },
     "6196f77909dc49209d12c106f3eb0dfc": {
      "model_module": "@jupyter-widgets/output",
      "model_module_version": "1.0.0",
      "model_name": "OutputModel",
      "state": {
       "layout": "IPY_MODEL_325d06be386140a29fd419ac2d7a6358",
       "outputs": [
        {
         "data": {
          "text/html": "<div class=\"table-div\">\n    <link rel=\"stylesheet\" type=\"text/css\" href=\"/static/datatables.css\">\n    <style>\n        #table-c724c81e {\n            margin: 0 auto;\n        }\n\n        #table-c724c81e * {\n                      font-size: 1em !important;\n                      font-family: \"Courier New\", Courier, monospace !important;\n                  }\n\n        .sorting, .sorting_asc, .sorting_desc {\n            background : none !important;\n        }\n\n        .table-div {\n            width: 100% !important;\n        }\n\n    </style>\n    <table id=\"table-c724c81e\" class=\"nowrap dt-left\" style=\"table-layout: auto; width: 100%;\">\n        <thead>\n        <tr>\n            <th></th>\n            \n            <th style=\"text-align: left\">org</th>\n            \n            <th style=\"text-align: left\">cnt</th>\n            \n        </tr>\n        </thead>\n        <tbody>\n        \n        <tr class=\"result-row dt-left\">\n            <td>1</td>\n            \n            <td style=\"text-align: left\">http://example.org/entities/organization/amazon</td>\n            \n            <td style=\"text-align: left\">270</td>\n            \n        </tr>\n        \n        <tr class=\"result-row dt-left\">\n            <td>2</td>\n            \n            <td style=\"text-align: left\">http://example.org/entities/organization/businesses</td>\n            \n            <td style=\"text-align: left\">40</td>\n            \n        </tr>\n        \n        <tr class=\"result-row dt-left\">\n            <td>3</td>\n            \n            <td style=\"text-align: left\">http://example.org/entities/organization/amazon.com%2C%20inc.</td>\n            \n            <td style=\"text-align: left\">36</td>\n            \n        </tr>\n        \n        <tr class=\"result-row dt-left\">\n            <td>4</td>\n            \n            <td style=\"text-align: left\">http://example.org/entities/organization/company</td>\n            \n            <td style=\"text-align: left\">30</td>\n            \n        </tr>\n        \n        <tr class=\"result-row dt-left\">\n            <td>5</td>\n            \n            <td style=\"text-align: left\">http://example.org/entities/organization/whole%20foods%20market</td>\n            \n            <td style=\"text-align: left\">18</td>\n            \n        </tr>\n        \n        <tr class=\"result-row dt-left\">\n            <td>6</td>\n            \n            <td style=\"text-align: left\">http://example.org/entities/organization/amazon.com</td>\n            \n            <td style=\"text-align: left\">13</td>\n            \n        </tr>\n        \n        </tbody>\n    </table>\n    <script type=\"text/javascript\">\n        require([\"datatables\"], function (datatables) {\n            $('#table-c724c81e').DataTable({\n                scrollY: true,\n                scrollX: true,\n                columnDefs: [\n                    {targets: [0], width: \"5%\"},\n                ],\n                bAutoWidth: true\n            });\n        })\n    </script>\n</div>",
          "text/plain": "<IPython.core.display.HTML object>"
         },
         "metadata": {},
         "output_type": "display_data"
        }
       ]
      }
     },
     "63fc7ced7ea84ee89dd7044af2d24e03": {
      "model_module": "@jupyter-widgets/base",
      "model_module_version": "1.2.0",
      "model_name": "LayoutModel",
      "state": {}
     },
     "6491c9d182a04729992844e59502a124": {
      "model_module": "@jupyter-widgets/controls",
      "model_module_version": "1.5.0",
      "model_name": "TextModel",
      "state": {
       "description": "Source:",
       "layout": "IPY_MODEL_86f02ca5e7a34dac809cbc602dd17ab6",
       "placeholder": "Type something",
       "style": "IPY_MODEL_90f079aaa62f437ea1447dabcb23e68a",
       "value": "s3://blog-official-test-1-neptunesagem-s3workingbucket-1a2cvjuwjynq2/rdf/"
      }
     },
     "653177ee99894be294ea0387d83a1e5c": {
      "model_module": "@jupyter-widgets/controls",
      "model_module_version": "1.5.0",
      "model_name": "TabModel",
      "state": {
       "_titles": {
        "0": "Console",
        "1": "Graph"
       },
       "children": [
        "IPY_MODEL_a977071075d044d1967d8ffc1e797b7c",
        "IPY_MODEL_a9b62d1860744941a45ac8e1c12ae5d3"
       ],
       "layout": "IPY_MODEL_acccca7ed5b34b3f9aa950389db8edb6",
       "selected_index": 1
      }
     },
     "697de3697b1a432ea7acb857996d7517": {
      "model_module": "@jupyter-widgets/controls",
      "model_module_version": "1.5.0",
      "model_name": "DescriptionStyleModel",
      "state": {
       "description_width": ""
      }
     },
     "6a3c3a8febde46b98dd3d9c414d9510d": {
      "model_module": "@jupyter-widgets/controls",
      "model_module_version": "1.5.0",
      "model_name": "TabModel",
      "state": {
       "layout": "IPY_MODEL_1e6e661a5d94488e95fee8d025dc8237"
      }
     },
     "700350be339147c5a8d7583ba77cb072": {
      "model_module": "@jupyter-widgets/controls",
      "model_module_version": "1.5.0",
      "model_name": "DescriptionStyleModel",
      "state": {
       "description_width": ""
      }
     },
     "72d6482c9e154a029e28dc03ed7935fc": {
      "model_module": "@jupyter-widgets/controls",
      "model_module_version": "1.5.0",
      "model_name": "HBoxModel",
      "state": {
       "children": [
        "IPY_MODEL_cf950950a0724794a5d60a508d44efdc"
       ],
       "layout": "IPY_MODEL_288bb835d2294715abb86838e2d2ff06"
      }
     },
     "7459dff5eccd4239b06325c05516ed41": {
      "model_module": "@jupyter-widgets/base",
      "model_module_version": "1.2.0",
      "model_name": "LayoutModel",
      "state": {}
     },
     "75f2606b3fb84b24a6a2e72478183600": {
      "model_module": "@jupyter-widgets/controls",
      "model_module_version": "1.5.0",
      "model_name": "ButtonStyleModel",
      "state": {}
     },
     "75feeb6f22194f21b9d4d18ea22c4091": {
      "model_module": "@jupyter-widgets/controls",
      "model_module_version": "1.5.0",
      "model_name": "TabModel",
      "state": {
       "_titles": {
        "0": "Table",
        "1": "JSON"
       },
       "children": [
        "IPY_MODEL_9aba63fe45004b42a5f67f8374c97488",
        "IPY_MODEL_c98749b519104bdabb854ed2102de1a9"
       ],
       "layout": "IPY_MODEL_988df85b59ab4634a15f9f79550c19d1"
      }
     },
     "768c60e98e0647d4bb602f087b3888e7": {
      "model_module": "@jupyter-widgets/controls",
      "model_module_version": "1.5.0",
      "model_name": "TabModel",
      "state": {
       "layout": "IPY_MODEL_0a720368158c494cb40225c9853f18ce"
      }
     },
     "790a17d7bed34b5080fb0108a497cd7a": {
      "model_module": "@jupyter-widgets/base",
      "model_module_version": "1.2.0",
      "model_name": "LayoutModel",
      "state": {}
     },
     "7b831f3e1a704e97ba89598242d968ab": {
      "model_module": "@jupyter-widgets/base",
      "model_module_version": "1.2.0",
      "model_name": "LayoutModel",
      "state": {}
     },
     "7fd06cb2cf344df287606cc3e478b147": {
      "model_module": "@jupyter-widgets/controls",
      "model_module_version": "1.5.0",
      "model_name": "DescriptionStyleModel",
      "state": {
       "description_width": ""
      }
     },
     "7ff8d0ab055d44d9be7fab1122176f04": {
      "model_module": "@jupyter-widgets/base",
      "model_module_version": "1.2.0",
      "model_name": "LayoutModel",
      "state": {}
     },
     "8200c76ade714f51bf701ce513498eb6": {
      "model_module": "@jupyter-widgets/controls",
      "model_module_version": "1.5.0",
      "model_name": "TabModel",
      "state": {
       "_titles": {
        "0": "Console"
       },
       "children": [
        "IPY_MODEL_47727c1eae23477e8bc2e09c26b7daac"
       ],
       "layout": "IPY_MODEL_e19c0537523a4c69a1631936632c5c80"
      }
     },
     "84901257c1e6452fadfb5ace6a35a10d": {
      "model_module": "@jupyter-widgets/controls",
      "model_module_version": "1.5.0",
      "model_name": "DescriptionStyleModel",
      "state": {
       "description_width": ""
      }
     },
     "8661d85eaa924cfa9eae3a2d44e92cc6": {
      "model_module": "@jupyter-widgets/base",
      "model_module_version": "1.2.0",
      "model_name": "LayoutModel",
      "state": {}
     },
     "86b056ccabb04b9ca58a4d201933abe7": {
      "model_module": "@jupyter-widgets/base",
      "model_module_version": "1.2.0",
      "model_name": "LayoutModel",
      "state": {}
     },
     "86f02ca5e7a34dac809cbc602dd17ab6": {
      "model_module": "@jupyter-widgets/base",
      "model_module_version": "1.2.0",
      "model_name": "LayoutModel",
      "state": {}
     },
     "88a1fe20e0794bf2b72ff111124f2075": {
      "model_module": "@jupyter-widgets/controls",
      "model_module_version": "1.5.0",
      "model_name": "TabModel",
      "state": {
       "_titles": {
        "0": "Table",
        "1": "JSON"
       },
       "children": [
        "IPY_MODEL_ca5aa4c7f3a949ad86924155aea6a8ec",
        "IPY_MODEL_091ae99491e84829a77f6ebcc99e6c38"
       ],
       "layout": "IPY_MODEL_55e8c4d9784443be9133dad57d49f50f"
      }
     },
     "8a0b83d414654c99b8d4bbae9fa838a2": {
      "model_module": "@jupyter-widgets/base",
      "model_module_version": "1.2.0",
      "model_name": "LayoutModel",
      "state": {}
     },
     "8a78d6a9994a49e6afd26c69d327fc5b": {
      "model_module": "@jupyter-widgets/controls",
      "model_module_version": "1.5.0",
      "model_name": "TabModel",
      "state": {
       "layout": "IPY_MODEL_0f1aae37517f46b6a4d63b7395cdd291"
      }
     },
     "90679fbdb4da40c68d532c6255203cfc": {
      "model_module": "@jupyter-widgets/controls",
      "model_module_version": "1.5.0",
      "model_name": "VBoxModel",
      "state": {
       "children": [
        "IPY_MODEL_54d91847e8c241d68ade0504ec31e42c",
        "IPY_MODEL_086471e04a25420a96bbd5f12fd30570",
        "IPY_MODEL_917894872b04472d95754d1b504cbd9f"
       ],
       "layout": "IPY_MODEL_fce1e5a52e444cbfbd7ac723e5f61084"
      }
     },
     "90f079aaa62f437ea1447dabcb23e68a": {
      "model_module": "@jupyter-widgets/controls",
      "model_module_version": "1.5.0",
      "model_name": "DescriptionStyleModel",
      "state": {
       "description_width": ""
      }
     },
     "917894872b04472d95754d1b504cbd9f": {
      "model_module": "@jupyter-widgets/output",
      "model_module_version": "1.0.0",
      "model_name": "OutputModel",
      "state": {
       "layout": "IPY_MODEL_63fc7ced7ea84ee89dd7044af2d24e03",
       "outputs": [
        {
         "name": "stdout",
         "output_type": "stream",
         "text": "Overall Status: LOAD_COMPLETED\nDone.\n"
        }
       ]
      }
     },
     "94f28bf4bff943788f8ef9133cc3b1ae": {
      "model_module": "@jupyter-widgets/controls",
      "model_module_version": "1.5.0",
      "model_name": "DescriptionStyleModel",
      "state": {
       "description_width": ""
      }
     },
     "988df85b59ab4634a15f9f79550c19d1": {
      "model_module": "@jupyter-widgets/base",
      "model_module_version": "1.2.0",
      "model_name": "LayoutModel",
      "state": {}
     },
     "994c364d156247a4ae3ba347309bde55": {
      "model_module": "@jupyter-widgets/controls",
      "model_module_version": "1.5.0",
      "model_name": "TextModel",
      "state": {
       "description": "Load ARN:",
       "layout": "IPY_MODEL_04b327d76ea24b59a7c1881bce581b5d",
       "placeholder": "Type something",
       "style": "IPY_MODEL_b5d83ecf3345442e85927d382b46bac3",
       "value": "arn:aws:iam::928182353526:role/blog-official-test-1-Neptune-NeptuneLoadFromS3Role-MEQFYAZHLVTU"
      }
     },
     "9aba63fe45004b42a5f67f8374c97488": {
      "model_module": "@jupyter-widgets/controls",
      "model_module_version": "1.5.0",
      "model_name": "HBoxModel",
      "state": {
       "children": [
        "IPY_MODEL_35b52d13d5e0463c93a1777342fc61aa"
       ],
       "layout": "IPY_MODEL_325d06be386140a29fd419ac2d7a6358"
      }
     },
     "a4c52b5159354f8d91175c00009a57c7": {
      "model_module": "@jupyter-widgets/controls",
      "model_module_version": "1.5.0",
      "model_name": "DescriptionStyleModel",
      "state": {
       "description_width": ""
      }
     },
     "a548f537f7534936b20ceaeec03d58cb": {
      "model_module": "@jupyter-widgets/controls",
      "model_module_version": "1.5.0",
      "model_name": "TabModel",
      "state": {
       "layout": "IPY_MODEL_31ff362a16a94eee8ca90704f907927a"
      }
     },
     "a5ca3baecb434c6dba84770e18b7e6fb": {
      "model_module": "@jupyter-widgets/base",
      "model_module_version": "1.2.0",
      "model_name": "LayoutModel",
      "state": {}
     },
     "a91e210f3cfe497e9d1abf054f93f2f5": {
      "model_module": "@jupyter-widgets/base",
      "model_module_version": "1.2.0",
      "model_name": "LayoutModel",
      "state": {}
     },
     "a945de24ab0e47c587509ce15b57eeb3": {
      "model_module": "@jupyter-widgets/base",
      "model_module_version": "1.2.0",
      "model_name": "LayoutModel",
      "state": {}
     },
     "a977071075d044d1967d8ffc1e797b7c": {
      "model_module": "@jupyter-widgets/output",
      "model_module_version": "1.0.0",
      "model_name": "OutputModel",
      "state": {
       "layout": "IPY_MODEL_325d06be386140a29fd419ac2d7a6358",
       "outputs": [
        {
         "data": {
          "text/html": "<div class=\"table-div\">\n    <link rel=\"stylesheet\" type=\"text/css\" href=\"/static/datatables.css\">\n    <style>\n        #table-1c0b50f1 * {\n              font-size: 1em !important;\n              font-family: \"Courier New\", Courier, monospace !important;\n        }\n\n        .sorting, .sorting_asc, .sorting_desc {\n            background : none !important;\n        }\n\n        .dataTable {\n            width: 100%\n        }\n    </style>\n    <table id=\"table-1c0b50f1\" class=\"nowrap dt-left\">\n        <thead>\n        <tr>\n            <th></th>\n            <th style=\"text-align: left\">Console</th>\n        </tr>\n        </thead>\n        <tbody>\n        \n        <tr class=\"result-row dt-left\">\n            <td>1</td>\n            <td style=\"text-align: left; width: 100%;\">\n                path[Amazon, e[edge__node__event_sample_finance_dataset.txt_1_corporate_merger_merger2753_node__organization_amazon_participant][node__event_sample_finance_dataset.txt_1_corporate_merger_merger2753-PARTICIPANT-&gt;node__organization_amazon], v[node__event_sample_finance_dataset.txt_1_corporate_merger_merger2753], e[edge__node__event_sample_finance_dataset.txt_1_corporate_merger_merger2753_node__organization_whole_foods_market_participant][node__event_sample_finance_dataset.txt_1_corporate_merger_merger2753-PARTICIPANT-&gt;node__organization_whole_foods_market], Whole Foods Market]\n            </td>\n        </tr>\n        \n        <tr class=\"result-row dt-left\">\n            <td>2</td>\n            <td style=\"text-align: left; width: 100%;\">\n                path[Amazon, e[edge__node__event_sample_finance_dataset.txt_1_corporate_acquisition_acquire327_node__organization_amazon_investor][node__event_sample_finance_dataset.txt_1_corporate_acquisition_acquire327-INVESTOR-&gt;node__organization_amazon], v[node__event_sample_finance_dataset.txt_1_corporate_acquisition_acquire327], e[edge__node__event_sample_finance_dataset.txt_1_corporate_acquisition_acquire327_node__organization_whole_foods_market_investee][node__event_sample_finance_dataset.txt_1_corporate_acquisition_acquire327-INVESTEE-&gt;node__organization_whole_foods_market], Whole Foods Market]\n            </td>\n        </tr>\n        \n        <tr class=\"result-row dt-left\">\n            <td>3</td>\n            <td style=\"text-align: left; width: 100%;\">\n                path[Amazon, e[edge__node__event_sample_finance_dataset.txt_1_investment_general_financing2919_node__organization_amazon_investor][node__event_sample_finance_dataset.txt_1_investment_general_financing2919-INVESTOR-&gt;node__organization_amazon], v[node__event_sample_finance_dataset.txt_1_investment_general_financing2919], e[edge__node__event_sample_finance_dataset.txt_1_investment_general_financing2919_node__organization_whole_foods_market_investee][node__event_sample_finance_dataset.txt_1_investment_general_financing2919-INVESTEE-&gt;node__organization_whole_foods_market], Whole Foods Market]\n            </td>\n        </tr>\n        \n        <tr class=\"result-row dt-left\">\n            <td>4</td>\n            <td style=\"text-align: left; width: 100%;\">\n                path[Amazon, e[edge__node__event_sample_finance_dataset.txt_2_corporate_acquisition_acquisition132_node__organization_amazon_investor][node__event_sample_finance_dataset.txt_2_corporate_acquisition_acquisition132-INVESTOR-&gt;node__organization_amazon], v[node__event_sample_finance_dataset.txt_2_corporate_acquisition_acquisition132], e[edge__node__event_sample_finance_dataset.txt_2_corporate_acquisition_acquisition132_node__organization_whole_foods_market_investee][node__event_sample_finance_dataset.txt_2_corporate_acquisition_acquisition132-INVESTEE-&gt;node__organization_whole_foods_market], Whole Foods Market]\n            </td>\n        </tr>\n        \n        <tr class=\"result-row dt-left\">\n            <td>5</td>\n            <td style=\"text-align: left; width: 100%;\">\n                path[Amazon, e[edge__node__event_sample_finance_dataset.txt_2_corporate_acquisition_acquisition6017_node__organization_amazon_investor][node__event_sample_finance_dataset.txt_2_corporate_acquisition_acquisition6017-INVESTOR-&gt;node__organization_amazon], v[node__event_sample_finance_dataset.txt_2_corporate_acquisition_acquisition6017], e[edge__node__event_sample_finance_dataset.txt_2_corporate_acquisition_acquisition6017_node__organization_whole_foods_market_investee][node__event_sample_finance_dataset.txt_2_corporate_acquisition_acquisition6017-INVESTEE-&gt;node__organization_whole_foods_market], Whole Foods Market]\n            </td>\n        </tr>\n        \n        <tr class=\"result-row dt-left\">\n            <td>6</td>\n            <td style=\"text-align: left; width: 100%;\">\n                path[Amazon, e[edge__node__event_sample_finance_dataset.txt_20_investment_general_invested3689_node__organization_amazon_investor][node__event_sample_finance_dataset.txt_20_investment_general_invested3689-INVESTOR-&gt;node__organization_amazon], v[node__event_sample_finance_dataset.txt_20_investment_general_invested3689], e[edge__node__event_sample_finance_dataset.txt_20_investment_general_invested3689_node__organization_whole_foods_market_investee][node__event_sample_finance_dataset.txt_20_investment_general_invested3689-INVESTEE-&gt;node__organization_whole_foods_market], Whole Foods Market]\n            </td>\n        </tr>\n        \n        </tbody>\n    </table>\n    <script type=\"text/javascript\">\n        require([\"datatables\"], function (datatables) {\n            var dt = $('#table-1c0b50f1').DataTable({\n                scrollY: true,\n                scrollX: true,\n                columnDefs: [\n                    {targets: [0], width: \"5%\"},\n                    {targets: [1], minWidth: \"95%\"}\n                ]\n            });\n\n            var wrapper = $('#table-1c0b50f1_wrapper');\n            var inner = wrapper.find('.dataTables_scrollHeadInner');\n            inner.css('width', '100%');\n\n            var scrollTable = inner.find('.dataTable');\n            scrollTable.css('width', '100%');\n\n            $('#table-1c0b50f1').css('width', 'auto');\n\n        })\n    </script>\n</div>",
          "text/plain": "<IPython.core.display.HTML object>"
         },
         "metadata": {},
         "output_type": "display_data"
        }
       ]
      }
     },
     "a9b62d1860744941a45ac8e1c12ae5d3": {
      "model_module": "graph_notebook_widgets",
      "model_module_version": "2.0.1",
      "model_name": "ForceModel",
      "state": {
       "layout": "IPY_MODEL_8661d85eaa924cfa9eae3a2d44e92cc6",
       "message": "",
       "network": {
        "graph": {
         "directed": true,
         "graph": {},
         "links": [
          {
           "key": "edge__node__event_sample_finance_dataset.txt_1_corporate_merger_merger2753_node__organization_amazon_participant",
           "label": "PARTICIPANT",
           "properties": {
            "id": "edge__node__event_sample_finance_dataset.txt_1_corporate_merger_merger2753_node__organization_amazon_participant",
            "inV": "v[node__organization_amazon]",
            "label": "PARTICIPANT",
            "outV": "v[node__event_sample_finance_dataset.txt_1_corporate_merger_merger2753]"
           },
           "source": "node__event_sample_finance_dataset.txt_1_corporate_merger_merger2753",
           "target": "Amazon"
          },
          {
           "key": "edge__node__event_sample_finance_dataset.txt_1_corporate_merger_merger2753_node__organization_whole_foods_market_participant",
           "label": "PARTICIPANT",
           "properties": {
            "id": "edge__node__event_sample_finance_dataset.txt_1_corporate_merger_merger2753_node__organization_whole_foods_market_participant",
            "inV": "v[node__organization_whole_foods_market]",
            "label": "PARTICIPANT",
            "outV": "v[node__event_sample_finance_dataset.txt_1_corporate_merger_merger2753]"
           },
           "source": "node__event_sample_finance_dataset.txt_1_corporate_merger_merger2753",
           "target": "Whole Foods Market"
          },
          {
           "key": "edge__node__event_sample_finance_dataset.txt_1_corporate_acquisition_acquire327_node__organization_amazon_investor",
           "label": "INVESTOR",
           "properties": {
            "id": "edge__node__event_sample_finance_dataset.txt_1_corporate_acquisition_acquire327_node__organization_amazon_investor",
            "inV": "v[node__organization_amazon]",
            "label": "INVESTOR",
            "outV": "v[node__event_sample_finance_dataset.txt_1_corporate_acquisition_acquire327]"
           },
           "source": "node__event_sample_finance_dataset.txt_1_corporate_acquisition_acquire327",
           "target": "Amazon"
          },
          {
           "key": "edge__node__event_sample_finance_dataset.txt_1_corporate_acquisition_acquire327_node__organization_whole_foods_market_investee",
           "label": "INVESTEE",
           "properties": {
            "id": "edge__node__event_sample_finance_dataset.txt_1_corporate_acquisition_acquire327_node__organization_whole_foods_market_investee",
            "inV": "v[node__organization_whole_foods_market]",
            "label": "INVESTEE",
            "outV": "v[node__event_sample_finance_dataset.txt_1_corporate_acquisition_acquire327]"
           },
           "source": "node__event_sample_finance_dataset.txt_1_corporate_acquisition_acquire327",
           "target": "Whole Foods Market"
          },
          {
           "key": "edge__node__event_sample_finance_dataset.txt_1_investment_general_financing2919_node__organization_amazon_investor",
           "label": "INVESTOR",
           "properties": {
            "id": "edge__node__event_sample_finance_dataset.txt_1_investment_general_financing2919_node__organization_amazon_investor",
            "inV": "v[node__organization_amazon]",
            "label": "INVESTOR",
            "outV": "v[node__event_sample_finance_dataset.txt_1_investment_general_financing2919]"
           },
           "source": "node__event_sample_finance_dataset.txt_1_investment_general_financing2919",
           "target": "Amazon"
          },
          {
           "key": "edge__node__event_sample_finance_dataset.txt_1_investment_general_financing2919_node__organization_whole_foods_market_investee",
           "label": "INVESTEE",
           "properties": {
            "id": "edge__node__event_sample_finance_dataset.txt_1_investment_general_financing2919_node__organization_whole_foods_market_investee",
            "inV": "v[node__organization_whole_foods_market]",
            "label": "INVESTEE",
            "outV": "v[node__event_sample_finance_dataset.txt_1_investment_general_financing2919]"
           },
           "source": "node__event_sample_finance_dataset.txt_1_investment_general_financing2919",
           "target": "Whole Foods Market"
          },
          {
           "key": "edge__node__event_sample_finance_dataset.txt_2_corporate_acquisition_acquisition132_node__organization_amazon_investor",
           "label": "INVESTOR",
           "properties": {
            "id": "edge__node__event_sample_finance_dataset.txt_2_corporate_acquisition_acquisition132_node__organization_amazon_investor",
            "inV": "v[node__organization_amazon]",
            "label": "INVESTOR",
            "outV": "v[node__event_sample_finance_dataset.txt_2_corporate_acquisition_acquisition132]"
           },
           "source": "node__event_sample_finance_dataset.txt_2_corporate_acquisition_acquisition132",
           "target": "Amazon"
          },
          {
           "key": "edge__node__event_sample_finance_dataset.txt_2_corporate_acquisition_acquisition132_node__organization_whole_foods_market_investee",
           "label": "INVESTEE",
           "properties": {
            "id": "edge__node__event_sample_finance_dataset.txt_2_corporate_acquisition_acquisition132_node__organization_whole_foods_market_investee",
            "inV": "v[node__organization_whole_foods_market]",
            "label": "INVESTEE",
            "outV": "v[node__event_sample_finance_dataset.txt_2_corporate_acquisition_acquisition132]"
           },
           "source": "node__event_sample_finance_dataset.txt_2_corporate_acquisition_acquisition132",
           "target": "Whole Foods Market"
          },
          {
           "key": "edge__node__event_sample_finance_dataset.txt_2_corporate_acquisition_acquisition6017_node__organization_amazon_investor",
           "label": "INVESTOR",
           "properties": {
            "id": "edge__node__event_sample_finance_dataset.txt_2_corporate_acquisition_acquisition6017_node__organization_amazon_investor",
            "inV": "v[node__organization_amazon]",
            "label": "INVESTOR",
            "outV": "v[node__event_sample_finance_dataset.txt_2_corporate_acquisition_acquisition6017]"
           },
           "source": "node__event_sample_finance_dataset.txt_2_corporate_acquisition_acquisition6017",
           "target": "Amazon"
          },
          {
           "key": "edge__node__event_sample_finance_dataset.txt_2_corporate_acquisition_acquisition6017_node__organization_whole_foods_market_investee",
           "label": "INVESTEE",
           "properties": {
            "id": "edge__node__event_sample_finance_dataset.txt_2_corporate_acquisition_acquisition6017_node__organization_whole_foods_market_investee",
            "inV": "v[node__organization_whole_foods_market]",
            "label": "INVESTEE",
            "outV": "v[node__event_sample_finance_dataset.txt_2_corporate_acquisition_acquisition6017]"
           },
           "source": "node__event_sample_finance_dataset.txt_2_corporate_acquisition_acquisition6017",
           "target": "Whole Foods Market"
          },
          {
           "key": "edge__node__event_sample_finance_dataset.txt_20_investment_general_invested3689_node__organization_amazon_investor",
           "label": "INVESTOR",
           "properties": {
            "id": "edge__node__event_sample_finance_dataset.txt_20_investment_general_invested3689_node__organization_amazon_investor",
            "inV": "v[node__organization_amazon]",
            "label": "INVESTOR",
            "outV": "v[node__event_sample_finance_dataset.txt_20_investment_general_invested3689]"
           },
           "source": "node__event_sample_finance_dataset.txt_20_investment_general_invested3689",
           "target": "Amazon"
          },
          {
           "key": "edge__node__event_sample_finance_dataset.txt_20_investment_general_invested3689_node__organization_whole_foods_market_investee",
           "label": "INVESTEE",
           "properties": {
            "id": "edge__node__event_sample_finance_dataset.txt_20_investment_general_invested3689_node__organization_whole_foods_market_investee",
            "inV": "v[node__organization_whole_foods_market]",
            "label": "INVESTEE",
            "outV": "v[node__event_sample_finance_dataset.txt_20_investment_general_invested3689]"
           },
           "source": "node__event_sample_finance_dataset.txt_20_investment_general_invested3689",
           "target": "Whole Foods Market"
          }
         ],
         "multigraph": true,
         "nodes": [
          {
           "id": "Amazon",
           "label": "Amazon",
           "title": "Amazon"
          },
          {
           "id": "node__event_sample_finance_dataset.txt_1_corporate_merger_merger2753",
           "label": "CORPORA...",
           "properties": {
            "id": "node__event_sample_finance_dataset.txt_1_corporate_merger_merger2753",
            "label": "CORPORATE_MERGER"
           },
           "title": "CORPORATE_MERGER"
          },
          {
           "id": "Whole Foods Market",
           "label": "Whole F...",
           "title": "Whole Foods Market"
          },
          {
           "id": "node__event_sample_finance_dataset.txt_1_corporate_acquisition_acquire327",
           "label": "CORPORA...",
           "properties": {
            "id": "node__event_sample_finance_dataset.txt_1_corporate_acquisition_acquire327",
            "label": "CORPORATE_ACQUISITION"
           },
           "title": "CORPORATE_ACQUISITION"
          },
          {
           "id": "node__event_sample_finance_dataset.txt_1_investment_general_financing2919",
           "label": "INVESTM...",
           "properties": {
            "id": "node__event_sample_finance_dataset.txt_1_investment_general_financing2919",
            "label": "INVESTMENT_GENERAL"
           },
           "title": "INVESTMENT_GENERAL"
          },
          {
           "id": "node__event_sample_finance_dataset.txt_2_corporate_acquisition_acquisition132",
           "label": "CORPORA...",
           "properties": {
            "id": "node__event_sample_finance_dataset.txt_2_corporate_acquisition_acquisition132",
            "label": "CORPORATE_ACQUISITION"
           },
           "title": "CORPORATE_ACQUISITION"
          },
          {
           "id": "node__event_sample_finance_dataset.txt_2_corporate_acquisition_acquisition6017",
           "label": "CORPORA...",
           "properties": {
            "id": "node__event_sample_finance_dataset.txt_2_corporate_acquisition_acquisition6017",
            "label": "CORPORATE_ACQUISITION"
           },
           "title": "CORPORATE_ACQUISITION"
          },
          {
           "id": "node__event_sample_finance_dataset.txt_20_investment_general_invested3689",
           "label": "INVESTM...",
           "properties": {
            "id": "node__event_sample_finance_dataset.txt_20_investment_general_invested3689",
            "label": "INVESTMENT_GENERAL"
           },
           "title": "INVESTMENT_GENERAL"
          }
         ]
        }
       },
       "options": {
        "edges": {
         "arrows": {
          "to": {
           "enabled": true,
           "type": "arrow"
          }
         },
         "color": {
          "inherit": false
         },
         "font": {
          "face": "courier new"
         },
         "smooth": {
          "enabled": true,
          "type": "straightCross"
         }
        },
        "interaction": {
         "hover": true,
         "hoverConnectedEdges": true,
         "selectConnectedEdges": false
        },
        "nodes": {
         "borderWidth": 0,
         "borderWidthSelected": 0,
         "color": {
          "background": "rgba(210, 229, 255, 1)",
          "border": "transparent",
          "highlight": {
           "background": "rgba(9, 104, 178, 1)",
           "border": "rgba(8, 62, 100, 1)"
          }
         },
         "font": {
          "color": "black",
          "face": "courier new",
          "size": 12
         },
         "shadow": {
          "enabled": false
         },
         "shape": "circle",
         "widthConstraint": {
          "maximum": 70,
          "minimum": 70
         }
        },
        "physics": {
         "adaptiveTimestep": true,
         "barnesHut": {
          "avoidOverlap": 0.1,
          "centralGravity": 0.1,
          "damping": 0.09,
          "gravitationalConstant": -50450,
          "springConstant": 0.04,
          "springLength": 95
         },
         "enabled": true,
         "minVelocity": 0.75,
         "solver": "barnesHut",
         "stabilization": {
          "enabled": true,
          "iterations": 1
         }
        }
       }
      }
     },
     "acccca7ed5b34b3f9aa950389db8edb6": {
      "model_module": "@jupyter-widgets/base",
      "model_module_version": "1.2.0",
      "model_name": "LayoutModel",
      "state": {}
     },
     "aec789ab6ecb4a7a9eef692968749b3f": {
      "model_module": "@jupyter-widgets/base",
      "model_module_version": "1.2.0",
      "model_name": "LayoutModel",
      "state": {}
     },
     "b47944a5d9b1458ab3787c83ca01bc1b": {
      "model_module": "@jupyter-widgets/controls",
      "model_module_version": "1.5.0",
      "model_name": "TabModel",
      "state": {
       "layout": "IPY_MODEL_55a87c14c6004b779ca285d898f7a71d"
      }
     },
     "b5d83ecf3345442e85927d382b46bac3": {
      "model_module": "@jupyter-widgets/controls",
      "model_module_version": "1.5.0",
      "model_name": "DescriptionStyleModel",
      "state": {
       "description_width": ""
      }
     },
     "b69eb8efcebe412486bf87716c5548bb": {
      "model_module": "@jupyter-widgets/controls",
      "model_module_version": "1.5.0",
      "model_name": "TextModel",
      "state": {
       "description": "Load ARN:",
       "layout": "IPY_MODEL_f91c97586bbb4f61997ed446e4f55dc6",
       "placeholder": "Type something",
       "style": "IPY_MODEL_a4c52b5159354f8d91175c00009a57c7",
       "value": "arn:aws:iam::928182353526:role/blog-official-test-1-Neptune-NeptuneLoadFromS3Role-MEQFYAZHLVTU"
      }
     },
     "b7a4d77dd8e5452fa8c438b51c1914de": {
      "model_module": "@jupyter-widgets/controls",
      "model_module_version": "1.5.0",
      "model_name": "DescriptionStyleModel",
      "state": {
       "description_width": ""
      }
     },
     "b9f7399b9fdd4adc823a3b6750126ca2": {
      "model_module": "@jupyter-widgets/base",
      "model_module_version": "1.2.0",
      "model_name": "LayoutModel",
      "state": {}
     },
     "bccd9e0f48aa4b76a6b2d58c7ea17b7b": {
      "model_module": "@jupyter-widgets/controls",
      "model_module_version": "1.5.0",
      "model_name": "TabModel",
      "state": {
       "layout": "IPY_MODEL_8a0b83d414654c99b8d4bbae9fa838a2"
      }
     },
     "c24948d64a9e4b6abbb83cd9c337b83f": {
      "model_module": "@jupyter-widgets/controls",
      "model_module_version": "1.5.0",
      "model_name": "DescriptionStyleModel",
      "state": {
       "description_width": ""
      }
     },
     "c4d657ccd8484c2db12ed1adf0c105e4": {
      "model_module": "@jupyter-widgets/controls",
      "model_module_version": "1.5.0",
      "model_name": "ButtonStyleModel",
      "state": {}
     },
     "c63302b05edd4549a0172f63e4e5b8c8": {
      "model_module": "@jupyter-widgets/base",
      "model_module_version": "1.2.0",
      "model_name": "LayoutModel",
      "state": {}
     },
     "c9059d754a8d4651890efa9fadd49718": {
      "model_module": "@jupyter-widgets/base",
      "model_module_version": "1.2.0",
      "model_name": "LayoutModel",
      "state": {}
     },
     "c92c62b9bc5640ad8944e8fe1463eb79": {
      "model_module": "@jupyter-widgets/base",
      "model_module_version": "1.2.0",
      "model_name": "LayoutModel",
      "state": {}
     },
     "c98749b519104bdabb854ed2102de1a9": {
      "model_module": "@jupyter-widgets/output",
      "model_module_version": "1.0.0",
      "model_name": "OutputModel",
      "state": {
       "layout": "IPY_MODEL_325d06be386140a29fd419ac2d7a6358",
       "outputs": [
        {
         "name": "stdout",
         "output_type": "stream",
         "text": "{\n  \"head\": {\n    \"vars\": [\n      \"role_1\",\n      \"event_type\",\n      \"role_2\"\n    ]\n  },\n  \"results\": {\n    \"bindings\": [\n      {\n        \"role_2\": {\n          \"type\": \"uri\",\n          \"value\": \"http://example.org/roles/investee\"\n        },\n        \"role_1\": {\n          \"type\": \"uri\",\n          \"value\": \"http://example.org/roles/investor\"\n        },\n        \"event_type\": {\n          \"type\": \"uri\",\n          \"value\": \"http://example.org/entities/events/corporate_acquisition\"\n        }\n      },\n      {\n        \"role_2\": {\n          \"type\": \"uri\",\n          \"value\": \"http://example.org/roles/investee\"\n        },\n        \"role_1\": {\n          \"type\": \"uri\",\n          \"value\": \"http://example.org/roles/investor\"\n        },\n        \"event_type\": {\n          \"type\": \"uri\",\n          \"value\": \"http://example.org/entities/events/corporate_acquisition\"\n        }\n      },\n      {\n        \"role_2\": {\n          \"type\": \"uri\",\n          \"value\": \"http://example.org/roles/investee\"\n        },\n        \"role_1\": {\n          \"type\": \"uri\",\n          \"value\": \"http://example.org/roles/investor\"\n        },\n        \"event_type\": {\n          \"type\": \"uri\",\n          \"value\": \"http://example.org/entities/events/investment_general\"\n        }\n      },\n      {\n        \"role_2\": {\n          \"type\": \"uri\",\n          \"value\": \"http://example.org/roles/investee\"\n        },\n        \"role_1\": {\n          \"type\": \"uri\",\n          \"value\": \"http://example.org/roles/investor\"\n        },\n        \"event_type\": {\n          \"type\": \"uri\",\n          \"value\": \"http://example.org/entities/events/investment_general\"\n        }\n      },\n      {\n        \"role_2\": {\n          \"type\": \"uri\",\n          \"value\": \"http://example.org/roles/investee\"\n        },\n        \"role_1\": {\n          \"type\": \"uri\",\n          \"value\": \"http://example.org/roles/investor\"\n        },\n        \"event_type\": {\n          \"type\": \"uri\",\n          \"value\": \"http://example.org/entities/events/corporate_acquisition\"\n        }\n      },\n      {\n        \"role_2\": {\n          \"type\": \"uri\",\n          \"value\": \"http://example.org/roles/participant\"\n        },\n        \"role_1\": {\n          \"type\": \"uri\",\n          \"value\": \"http://example.org/roles/participant\"\n        },\n        \"event_type\": {\n          \"type\": \"uri\",\n          \"value\": \"http://example.org/entities/events/corporate_merger\"\n        }\n      }\n    ]\n  }\n}\n"
        }
       ]
      }
     },
     "ca5aa4c7f3a949ad86924155aea6a8ec": {
      "model_module": "@jupyter-widgets/controls",
      "model_module_version": "1.5.0",
      "model_name": "HBoxModel",
      "state": {
       "children": [
        "IPY_MODEL_2e15103a1f244ae592b9947bc5f7380f"
       ],
       "layout": "IPY_MODEL_325d06be386140a29fd419ac2d7a6358"
      }
     },
     "ce200d8f798b432db7c8158742c0f493": {
      "model_module": "@jupyter-widgets/output",
      "model_module_version": "1.0.0",
      "model_name": "OutputModel",
      "state": {
       "layout": "IPY_MODEL_325d06be386140a29fd419ac2d7a6358",
       "outputs": [
        {
         "data": {
          "text/html": "<div class=\"table-div\">\n    <link rel=\"stylesheet\" type=\"text/css\" href=\"/static/datatables.css\">\n    <style>\n        #table-aa9f2aa8 * {\n              font-size: 1em !important;\n              font-family: \"Courier New\", Courier, monospace !important;\n        }\n\n        .sorting, .sorting_asc, .sorting_desc {\n            background : none !important;\n        }\n\n        .dataTable {\n            width: 100%\n        }\n    </style>\n    <table id=\"table-aa9f2aa8\" class=\"nowrap dt-left\">\n        <thead>\n        <tr>\n            <th></th>\n            <th style=\"text-align: left\">Console</th>\n        </tr>\n        </thead>\n        <tbody>\n        \n        <tr class=\"result-row dt-left\">\n            <td>1</td>\n            <td style=\"text-align: left; width: 100%;\">\n                {path[PARTICIPANT, CORPORATE_MERGER, PARTICIPANT]: 1, path[INVESTOR, CORPORATE_ACQUISITION, INVESTEE]: 3, path[INVESTOR, INVESTMENT_GENERAL, INVESTEE]: 2}\n            </td>\n        </tr>\n        \n        </tbody>\n    </table>\n    <script type=\"text/javascript\">\n        require([\"datatables\"], function (datatables) {\n            var dt = $('#table-aa9f2aa8').DataTable({\n                scrollY: true,\n                scrollX: true,\n                columnDefs: [\n                    {targets: [0], width: \"5%\"},\n                    {targets: [1], minWidth: \"95%\"}\n                ]\n            });\n\n            var wrapper = $('#table-aa9f2aa8_wrapper');\n            var inner = wrapper.find('.dataTables_scrollHeadInner');\n            inner.css('width', '100%');\n\n            var scrollTable = inner.find('.dataTable');\n            scrollTable.css('width', '100%');\n\n            $('#table-aa9f2aa8').css('width', 'auto');\n\n        })\n    </script>\n</div>",
          "text/plain": "<IPython.core.display.HTML object>"
         },
         "metadata": {},
         "output_type": "display_data"
        }
       ]
      }
     },
     "cf950950a0724794a5d60a508d44efdc": {
      "model_module": "@jupyter-widgets/controls",
      "model_module_version": "1.5.0",
      "model_name": "LabelModel",
      "state": {
       "layout": "IPY_MODEL_0f1a49a5e66940219a9ae5ac0628c26a",
       "style": "IPY_MODEL_3ce14cce756c4f95b5ac3872759bffe2",
       "value": "Load ID: fadb8650-7889-4f07-b912-6030345d47dc"
      }
     },
     "d392fd73b22244af93228e4842400adf": {
      "model_module": "@jupyter-widgets/controls",
      "model_module_version": "1.5.0",
      "model_name": "HBoxModel",
      "state": {
       "children": [
        "IPY_MODEL_fdb3ec88b79646f19b7618f61662a3e8"
       ],
       "layout": "IPY_MODEL_4c84fa830d5144eb9cfadb90ba84933f"
      }
     },
     "d57df840774c4b7d8d327feb4e57fabc": {
      "model_module": "@jupyter-widgets/base",
      "model_module_version": "1.2.0",
      "model_name": "LayoutModel",
      "state": {}
     },
     "d825aaec467f49e9902cb53d0f53a243": {
      "model_module": "@jupyter-widgets/base",
      "model_module_version": "1.2.0",
      "model_name": "LayoutModel",
      "state": {}
     },
     "de643890d64f4e7bbbdda83f297bc1dc": {
      "model_module": "@jupyter-widgets/base",
      "model_module_version": "1.2.0",
      "model_name": "LayoutModel",
      "state": {}
     },
     "df96e7ca8a774bddaf9fc00ee3d39251": {
      "model_module": "@jupyter-widgets/base",
      "model_module_version": "1.2.0",
      "model_name": "LayoutModel",
      "state": {}
     },
     "dfa49622db1e4a4ea47272ec58f4f273": {
      "model_module": "@jupyter-widgets/base",
      "model_module_version": "1.2.0",
      "model_name": "LayoutModel",
      "state": {}
     },
     "e19c0537523a4c69a1631936632c5c80": {
      "model_module": "@jupyter-widgets/base",
      "model_module_version": "1.2.0",
      "model_name": "LayoutModel",
      "state": {}
     },
     "e2849c1d243c4fcdaee07df65b3a1147": {
      "model_module": "@jupyter-widgets/controls",
      "model_module_version": "1.5.0",
      "model_name": "VBoxModel",
      "state": {
       "children": [
        "IPY_MODEL_72d6482c9e154a029e28dc03ed7935fc",
        "IPY_MODEL_d392fd73b22244af93228e4842400adf",
        "IPY_MODEL_5f10960684ce4ba598167b8826febb47"
       ],
       "layout": "IPY_MODEL_de643890d64f4e7bbbdda83f297bc1dc"
      }
     },
     "ee9acc267f3247e0bc1bcf8fea9f75fd": {
      "model_module": "@jupyter-widgets/base",
      "model_module_version": "1.2.0",
      "model_name": "LayoutModel",
      "state": {}
     },
     "f0ed112dc5b84254922fe7ad3965c42e": {
      "model_module": "@jupyter-widgets/controls",
      "model_module_version": "1.5.0",
      "model_name": "DescriptionStyleModel",
      "state": {
       "description_width": ""
      }
     },
     "f61c3e63e791449aa73ac3c45b69b1f1": {
      "model_module": "@jupyter-widgets/controls",
      "model_module_version": "1.5.0",
      "model_name": "DropdownModel",
      "state": {
       "_options_labels": [
        "",
        "csv",
        "ntriples",
        "nquads",
        "rdfxml",
        "turtle"
       ],
       "description": "Format: ",
       "index": 1,
       "layout": "IPY_MODEL_40a9f07490cf42a8a8800c3d52637b0b",
       "style": "IPY_MODEL_0aba27f051a148f89fd793238a3f652d"
      }
     },
     "f91c97586bbb4f61997ed446e4f55dc6": {
      "model_module": "@jupyter-widgets/base",
      "model_module_version": "1.2.0",
      "model_name": "LayoutModel",
      "state": {}
     },
     "fa5b01f4eaf94a0fac15d483a169182d": {
      "model_module": "@jupyter-widgets/controls",
      "model_module_version": "1.5.0",
      "model_name": "LabelModel",
      "state": {
       "layout": "IPY_MODEL_dfa49622db1e4a4ea47272ec58f4f273",
       "style": "IPY_MODEL_84901257c1e6452fadfb5ace6a35a10d",
       "value": "Load ID: 3222b966-e313-49ff-b50a-6533994ccf49"
      }
     },
     "fb3612da05ac4bad8b12cd0a72eaef11": {
      "model_module": "@jupyter-widgets/base",
      "model_module_version": "1.2.0",
      "model_name": "LayoutModel",
      "state": {}
     },
     "fc3e5d0295944d7ba3913c73dc264409": {
      "model_module": "@jupyter-widgets/base",
      "model_module_version": "1.2.0",
      "model_name": "LayoutModel",
      "state": {}
     },
     "fce1e5a52e444cbfbd7ac723e5f61084": {
      "model_module": "@jupyter-widgets/base",
      "model_module_version": "1.2.0",
      "model_name": "LayoutModel",
      "state": {}
     },
     "fce2cf814ae84a0192087ac3c7b0e1de": {
      "model_module": "@jupyter-widgets/output",
      "model_module_version": "1.0.0",
      "model_name": "OutputModel",
      "state": {
       "layout": "IPY_MODEL_325d06be386140a29fd419ac2d7a6358",
       "outputs": [
        {
         "name": "stdout",
         "output_type": "stream",
         "text": "{\n  \"head\": {\n    \"vars\": [\n      \"org\",\n      \"cnt\"\n    ]\n  },\n  \"results\": {\n    \"bindings\": [\n      {\n        \"org\": {\n          \"type\": \"uri\",\n          \"value\": \"http://example.org/entities/organization/amazon\"\n        },\n        \"cnt\": {\n          \"datatype\": \"http://www.w3.org/2001/XMLSchema#integer\",\n          \"type\": \"literal\",\n          \"value\": \"270\"\n        }\n      },\n      {\n        \"org\": {\n          \"type\": \"uri\",\n          \"value\": \"http://example.org/entities/organization/businesses\"\n        },\n        \"cnt\": {\n          \"datatype\": \"http://www.w3.org/2001/XMLSchema#integer\",\n          \"type\": \"literal\",\n          \"value\": \"40\"\n        }\n      },\n      {\n        \"org\": {\n          \"type\": \"uri\",\n          \"value\": \"http://example.org/entities/organization/amazon.com%2C%20inc.\"\n        },\n        \"cnt\": {\n          \"datatype\": \"http://www.w3.org/2001/XMLSchema#integer\",\n          \"type\": \"literal\",\n          \"value\": \"36\"\n        }\n      },\n      {\n        \"org\": {\n          \"type\": \"uri\",\n          \"value\": \"http://example.org/entities/organization/company\"\n        },\n        \"cnt\": {\n          \"datatype\": \"http://www.w3.org/2001/XMLSchema#integer\",\n          \"type\": \"literal\",\n          \"value\": \"30\"\n        }\n      },\n      {\n        \"org\": {\n          \"type\": \"uri\",\n          \"value\": \"http://example.org/entities/organization/whole%20foods%20market\"\n        },\n        \"cnt\": {\n          \"datatype\": \"http://www.w3.org/2001/XMLSchema#integer\",\n          \"type\": \"literal\",\n          \"value\": \"18\"\n        }\n      },\n      {\n        \"org\": {\n          \"type\": \"uri\",\n          \"value\": \"http://example.org/entities/organization/amazon.com\"\n        },\n        \"cnt\": {\n          \"datatype\": \"http://www.w3.org/2001/XMLSchema#integer\",\n          \"type\": \"literal\",\n          \"value\": \"13\"\n        }\n      }\n    ]\n  }\n}\n"
        }
       ]
      }
     },
     "feaf82997903496e9e882ed055cb1196": {
      "model_module": "@jupyter-widgets/controls",
      "model_module_version": "1.5.0",
      "model_name": "DescriptionStyleModel",
      "state": {
       "description_width": ""
      }
     },
     "ff4eaa9cad51403bb5aa7ea53f4c66bd": {
      "model_module": "@jupyter-widgets/controls",
      "model_module_version": "1.5.0",
      "model_name": "TabModel",
      "state": {
       "_titles": {
        "0": "Table",
        "1": "JSON"
       },
       "children": [
        "IPY_MODEL_1204e030b2b04d959c0c566c2f30ad3b",
        "IPY_MODEL_fce2cf814ae84a0192087ac3c7b0e1de"
       ],
       "layout": "IPY_MODEL_b9f7399b9fdd4adc823a3b6750126ca2"
      }
     }
    },
    "version_major": 2,
    "version_minor": 0
   }
  }
 },
 "nbformat": 4,
 "nbformat_minor": 4
}
