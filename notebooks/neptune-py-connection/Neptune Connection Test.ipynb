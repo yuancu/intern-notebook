{
 "cells": [
  {
   "cell_type": "markdown",
   "id": "95d442bd",
   "metadata": {},
   "source": [
    "Install dependencies"
   ]
  },
  {
   "cell_type": "code",
   "execution_count": 3,
   "id": "f65d5e11",
   "metadata": {},
   "outputs": [
    {
     "name": "stdout",
     "output_type": "stream",
     "text": [
      "Requirement already satisfied: gremlinpython in /home/ec2-user/anaconda3/envs/python3/lib/python3.6/site-packages (3.4.11)\r\n",
      "Requirement already satisfied: tornado<6.0,>=4.4.1 in /home/ec2-user/anaconda3/envs/python3/lib/python3.6/site-packages (from gremlinpython) (4.5.3)\r\n",
      "Requirement already satisfied: six<2.0.0,>=1.10.0 in /home/ec2-user/anaconda3/envs/python3/lib/python3.6/site-packages (from gremlinpython) (1.15.0)\r\n",
      "Requirement already satisfied: aenum<3.0.0,>=1.4.5 in /home/ec2-user/anaconda3/envs/python3/lib/python3.6/site-packages (from gremlinpython) (2.2.6)\r\n",
      "Requirement already satisfied: isodate<1.0.0,>=0.6.0 in /home/ec2-user/anaconda3/envs/python3/lib/python3.6/site-packages (from gremlinpython) (0.6.0)\r\n",
      "Requirement already satisfied: pyparsing<3.0.0,>=2.4.7 in /home/ec2-user/anaconda3/envs/python3/lib/python3.6/site-packages (from gremlinpython) (2.4.7)\r\n"
     ]
    }
   ],
   "source": [
    "!pip install gremlinpython --user"
   ]
  },
  {
   "cell_type": "markdown",
   "id": "f1d1bc02",
   "metadata": {},
   "source": [
    "Configurations"
   ]
  },
  {
   "cell_type": "code",
   "execution_count": 5,
   "id": "09df25f3",
   "metadata": {},
   "outputs": [],
   "source": [
    "%%bash\n",
    "cat > gremlinexample.py << EOL\n",
    "from __future__  import print_function  # Python 2/3 compatibility\n",
    "\n",
    "from gremlin_python import statics\n",
    "from gremlin_python.structure.graph import Graph\n",
    "from gremlin_python.process.graph_traversal import __\n",
    "from gremlin_python.process.strategies import *\n",
    "from gremlin_python.driver.driver_remote_connection import DriverRemoteConnection\n",
    "\n",
    "graph = Graph()\n",
    "\n",
    "remoteConn = DriverRemoteConnection('wss://database-1.cluster-c2ycbhkszo5s.us-east-1.neptune.amazonaws.com:8182/gremlin','g')\n",
    "g = graph.traversal().withRemote(remoteConn)\n",
    "\n",
    "print(g.V().limit(2).toList())\n",
    "remoteConn.close()\n",
    "EOL"
   ]
  },
  {
   "cell_type": "code",
   "execution_count": 15,
   "id": "94a55aec",
   "metadata": {},
   "outputs": [
    {
     "name": "stdout",
     "output_type": "stream",
     "text": [
      "Help on class DriverRemoteConnection in module gremlin_python.driver.driver_remote_connection:\n",
      "\n",
      "class DriverRemoteConnection(gremlin_python.driver.remote_connection.RemoteConnection)\n",
      " |  Method resolution order:\n",
      " |      DriverRemoteConnection\n",
      " |      gremlin_python.driver.remote_connection.RemoteConnection\n",
      " |      builtins.object\n",
      " |  \n",
      " |  Methods defined here:\n",
      " |  \n",
      " |  __init__(self, url, traversal_source, protocol_factory=None, transport_factory=None, pool_size=None, max_workers=None, username='', password='', message_serializer=None, graphson_reader=None, graphson_writer=None, headers=None, max_content_length=None)\n",
      " |      Initialize self.  See help(type(self)) for accurate signature.\n",
      " |  \n",
      " |  close(self)\n",
      " |  \n",
      " |  submit(self, bytecode)\n",
      " |  \n",
      " |  submitAsync(self, bytecode)\n",
      " |  \n",
      " |  ----------------------------------------------------------------------\n",
      " |  Data and other attributes defined here:\n",
      " |  \n",
      " |  __abstractmethods__ = frozenset()\n",
      " |  \n",
      " |  ----------------------------------------------------------------------\n",
      " |  Methods inherited from gremlin_python.driver.remote_connection.RemoteConnection:\n",
      " |  \n",
      " |  __repr__(self)\n",
      " |      Return repr(self).\n",
      " |  \n",
      " |  ----------------------------------------------------------------------\n",
      " |  Data descriptors inherited from gremlin_python.driver.remote_connection.RemoteConnection:\n",
      " |  \n",
      " |  __dict__\n",
      " |      dictionary for instance variables (if defined)\n",
      " |  \n",
      " |  __weakref__\n",
      " |      list of weak references to the object (if defined)\n",
      " |  \n",
      " |  traversal_source\n",
      " |  \n",
      " |  url\n",
      "\n"
     ]
    }
   ],
   "source": [
    "help(DriverRemoteConnection)"
   ]
  },
  {
   "cell_type": "code",
   "execution_count": 10,
   "id": "b7ac881b",
   "metadata": {},
   "outputs": [
    {
     "name": "stdout",
     "output_type": "stream",
     "text": [
      "[v[Navtanay Sinha], v[AWS_ORGANIZATION]]\n"
     ]
    }
   ],
   "source": [
    "from __future__  import print_function  # Python 2/3 compatibility\n",
    "\n",
    "from gremlin_python import statics\n",
    "from gremlin_python.structure.graph import Graph\n",
    "from gremlin_python.process.graph_traversal import __\n",
    "from gremlin_python.process.strategies import *\n",
    "from gremlin_python.driver.driver_remote_connection import DriverRemoteConnection\n",
    "\n",
    "graph = Graph()\n",
    "\n",
    "remoteConn = DriverRemoteConnection('wss://database-1.cluster-c2ycbhkszo5s.us-east-1.neptune.amazonaws.com:8182/gremlin','g')\n",
    "g = graph.traversal().withRemote(remoteConn)\n",
    "\n",
    "print(g.V().limit(2).toList())\n",
    "remoteConn.close()"
   ]
  },
  {
   "cell_type": "code",
   "execution_count": 14,
   "id": "f6cecc8a",
   "metadata": {},
   "outputs": [
    {
     "data": {
      "text/plain": [
       "[['V'], ['limit', 2], ['values', '_ipython_canary_method_should_not_exist_'], ['values', '_ipython_canary_method_should_not_exist_']]"
      ]
     },
     "execution_count": 14,
     "metadata": {},
     "output_type": "execute_result"
    }
   ],
   "source": [
    "g.V().limit(2)"
   ]
  },
  {
   "cell_type": "markdown",
   "id": "3b122d2b",
   "metadata": {},
   "source": [
    "The cell magics still not working"
   ]
  },
  {
   "cell_type": "code",
   "execution_count": 8,
   "id": "2f6f84f0",
   "metadata": {},
   "outputs": [
    {
     "name": "stderr",
     "output_type": "stream",
     "text": [
      "UsageError: Line magic function `%graph_notebook_config` not found.\n"
     ]
    }
   ],
   "source": [
    "%graph_notebook_config\n",
    "{\n",
    "  \"host\": \"database-1.cluster-c2ycbhkszo5s.us-east-1.neptune.amazonaws.com\",\n",
    "  \"port\": 8182,\n",
    "  \"auth_mode\": \"DEFAULT\",\n",
    "  \"load_from_s3_arn\": \"\",\n",
    "  \"ssl\": true,\n",
    "  \"aws_region\": \"us-east-1\",\n",
    "  \"sparql\": {\n",
    "    \"path\": \"sparql\"\n",
    "  }\n",
    "}"
   ]
  }
 ],
 "metadata": {
  "kernelspec": {
   "display_name": "conda_python3",
   "language": "python",
   "name": "conda_python3"
  },
  "language_info": {
   "codemirror_mode": {
    "name": "ipython",
    "version": 3
   },
   "file_extension": ".py",
   "mimetype": "text/x-python",
   "name": "python",
   "nbconvert_exporter": "python",
   "pygments_lexer": "ipython3",
   "version": "3.6.13"
  }
 },
 "nbformat": 4,
 "nbformat_minor": 5
}
