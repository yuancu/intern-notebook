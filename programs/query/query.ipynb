{
 "cells": [
  {
   "cell_type": "code",
   "execution_count": null,
   "id": "be607461",
   "metadata": {},
   "outputs": [],
   "source": []
  },
  {
   "cell_type": "markdown",
   "id": "949c3045",
   "metadata": {},
   "source": [
    "## Query"
   ]
  },
  {
   "cell_type": "markdown",
   "id": "e5203a54",
   "metadata": {},
   "source": [
    "#### Query with `curl` through https REST API"
   ]
  },
  {
   "cell_type": "code",
   "execution_count": 10,
   "id": "8a12c432",
   "metadata": {},
   "outputs": [
    {
     "name": "stdout",
     "output_type": "stream",
     "text": [
      "{\"detailedMessage\":\"Failed to interpret Gremlin query: Query parsing failed at line 1, character position at 10, error message : token recognition error at: 'per'\",\"code\":\"MalformedQueryException\",\"requestId\":\"62008f80-170b-473d-a354-69d2e586a3b7\"}"
     ]
    },
    {
     "name": "stderr",
     "output_type": "stream",
     "text": [
      "  % Total    % Received % Xferd  Average Speed   Time    Time     Time  Current\n",
      "                                 Dload  Upload   Total   Spent    Left  Speed\n",
      "100   319  100   248  100    71   8857   2535 --:--:-- --:--:-- --:--:-- 11392\n"
     ]
    }
   ],
   "source": [
    "%%bash\n",
    "\n",
    "curl -X POST -d '{\"gremlin\":\"g.V().has('person','name','陈巧生').out('国籍').values('name')\"}' https://database-2-instance-1.c2ycbhkszo5s.us-east-1.neptune.amazonaws.com:8182/gremlin"
   ]
  },
  {
   "cell_type": "code",
   "execution_count": 28,
   "id": "49f0c2f0",
   "metadata": {},
   "outputs": [
    {
     "name": "stdout",
     "output_type": "stream",
     "text": [
      "{\"requestId\":\"989143bc-3d58-4521-9864-7fede108dec1\",\"status\":{\"message\":\"\",\"code\":200,\"attributes\":{\"@type\":\"g:Map\",\"@value\":[]}},\"result\":{\"data\":{\"@type\":\"g:List\",\"@value\":[{\"@type\":\"g:Int64\",\"@value\":188028}]},\"meta\":{\"@type\":\"g:Map\",\"@value\":[]}}}"
     ]
    },
    {
     "name": "stderr",
     "output_type": "stream",
     "text": [
      "  % Total    % Received % Xferd  Average Speed   Time    Time     Time  Current\n",
      "                                 Dload  Upload   Total   Spent    Left  Speed\n",
      "100   278  100   251  100    27   1394    150 --:--:-- --:--:-- --:--:--  1544\n"
     ]
    }
   ],
   "source": [
    "%%bash\n",
    "\n",
    "curl -X POST -d '{\"gremlin\":\"g.E().count()\"}' https://database-2-instance-1.c2ycbhkszo5s.us-east-1.neptune.amazonaws.com:8182/gremlin"
   ]
  },
  {
   "cell_type": "markdown",
   "id": "624cd16f",
   "metadata": {},
   "source": [
    "#### Query through Python API\n",
    "Define query templates for every query type."
   ]
  },
  {
   "cell_type": "code",
   "execution_count": null,
   "id": "7b3476e0",
   "metadata": {},
   "outputs": [],
   "source": [
    "def query(expr):\n",
    "    graph = Graph()\n",
    "    remoteConn = DriverRemoteConnection('wss://database-2.cluster-ro-c2ycbhkszo5s.us-east-1.neptune.amazonaws.com:8182/gremlin','g')\n",
    "    g = graph.traversal().withRemote(remoteConn)\n",
    "    print(eval(expr))\n",
    "    remoteConn.close()"
   ]
  },
  {
   "cell_type": "code",
   "execution_count": 83,
   "id": "c28019e2",
   "metadata": {},
   "outputs": [],
   "source": [
    "query_templates = {\n",
    "    'ask_alumni': \"g.V().has('学校', 'name', '{}').inE().hasLabel('毕业院校').outV().values('name').toList()\",\n",
    "    'ask_school': \"g.V().has('人物','name','{}').out('毕业院校').values('name').next()\",\n",
    "    'ask_books': \"g.V().has('人物', 'name', '{}').inE().hasLabel('作者').outV().values('name').toList()\", \n",
    "    'ask_author': \"g.V().has('图书作品','name','{}').out('作者').values('name').next()\",\n",
    "    'ask_wife': \"g.V().has('人物','name','{}').out('妻子').values('name').next()\",\n",
    "    'ask_husband': \"g.V().has('人物','name','{}').out('丈夫').values('name').next()\",\n",
    "    'ask_films': \"g.V().has('人物', 'name', '{}').inE().hasLabel('导演').outV().values('name').toList()\",\n",
    "    'ask_director': \"g.V().has('影视作品','name','{}').out('导演').values('name').next()\",\n",
    "    'ask_nationality': \"g.V().has('人物','name','{}').out('国籍').values('name').next()\"\n",
    "}"
   ]
  },
  {
   "cell_type": "code",
   "execution_count": 85,
   "id": "f7d3d201",
   "metadata": {},
   "outputs": [],
   "source": [
    "answer_templates = {\n",
    "    'ask_alumni': \"{}的校友有{}\",\n",
    "    'ask_school': \"{}毕业于{}\",\n",
    "    'ask_books': \"{}的著作有{}\", \n",
    "    'ask_author': \"{}的作者是{}\",\n",
    "    'ask_wife': \"{}的妻子是{}\",\n",
    "    'ask_husband': \"{}的丈夫是{}\",\n",
    "    'ask_films': \"{}导演的作品有{}\",\n",
    "    'ask_director': \"{}的导演是{}\",\n",
    "    'ask_nationality': \"{}的国籍是{}\"\n",
    "}"
   ]
  },
  {
   "cell_type": "code",
   "execution_count": 44,
   "id": "1cde42fa",
   "metadata": {},
   "outputs": [
    {
     "name": "stdout",
     "output_type": "stream",
     "text": [
      "尼古拉斯·凯奇\n"
     ]
    }
   ],
   "source": [
    "query(\"g.V().has('影视作品', 'name', '末日迷踪').out('主演').values('name').next()\")"
   ]
  }
 ],
 "metadata": {
  "kernelspec": {
   "display_name": "conda_pytorch_p36",
   "language": "python",
   "name": "conda_pytorch_p36"
  },
  "language_info": {
   "codemirror_mode": {
    "name": "ipython",
    "version": 3
   },
   "file_extension": ".py",
   "mimetype": "text/x-python",
   "name": "python",
   "nbconvert_exporter": "python",
   "pygments_lexer": "ipython3",
   "version": "3.6.13"
  }
 },
 "nbformat": 4,
 "nbformat_minor": 5
}
