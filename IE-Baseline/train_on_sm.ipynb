{
 "cells": [
  {
   "cell_type": "markdown",
   "id": "e0290163",
   "metadata": {},
   "source": [
    "## Setup\n",
    "\n",
    "Let's start by specifying:\n",
    "- The S3 bucket and prefix that you want to use for training and model data. **This should be within the same region as the Notebook Instance, training, and hosting.**"
   ]
  },
  {
   "cell_type": "code",
   "execution_count": 3,
   "id": "70d78460",
   "metadata": {},
   "outputs": [],
   "source": [
    "bucket = 'sm-nlp-data'\n",
    "prefix = 'ie-baseline'"
   ]
  },
  {
   "cell_type": "code",
   "execution_count": 4,
   "id": "704ab767",
   "metadata": {},
   "outputs": [],
   "source": [
    "import boto3\n",
    "import re\n",
    "from sagemaker import get_execution_role\n",
    "\n",
    "role = get_execution_role()"
   ]
  },
  {
   "cell_type": "code",
   "execution_count": 5,
   "id": "49ab20f5",
   "metadata": {},
   "outputs": [
    {
     "data": {
      "text/plain": [
       "'arn:aws:iam::093729152554:role/service-role/AWSNeptuneNotebookRole-NepTestRole'"
      ]
     },
     "execution_count": 5,
     "metadata": {},
     "output_type": "execute_result"
    }
   ],
   "source": [
    "role"
   ]
  },
  {
   "cell_type": "markdown",
   "id": "76a32e2a",
   "metadata": {},
   "source": [
    "## Download data\n",
    "Download [DuIE 2.0](https://dataset-bj.cdn.bcebos.com/qianyan/DuIE_2_0.zip) and extract json files to `{project_root}/data` folder."
   ]
  },
  {
   "cell_type": "code",
   "execution_count": null,
   "id": "7225a4fe",
   "metadata": {},
   "outputs": [],
   "source": [
    "%%bash\n",
    "wget https://dataset-bj.cdn.bcebos.com/qianyan/DuIE_2_0.zip\n",
    "mkdir data\n",
    "mkdir data\n",
    "unzip -j DuIE_2_0.zip -d data\n",
    "ls data\n",
    "rm DuIE_2_0.zip"
   ]
  },
  {
   "cell_type": "markdown",
   "id": "82511415",
   "metadata": {},
   "source": [
    "## Transform the data to easier-comprehensible form"
   ]
  },
  {
   "cell_type": "code",
   "execution_count": null,
   "id": "6e7df1e8",
   "metadata": {},
   "outputs": [],
   "source": [
    "%%bash\n",
    "mkdir generated\n",
    "python trans.py\n",
    "ls generated"
   ]
  },
  {
   "cell_type": "code",
   "execution_count": null,
   "id": "80a1a62c",
   "metadata": {},
   "outputs": [],
   "source": [
    "!ls generated"
   ]
  },
  {
   "cell_type": "markdown",
   "id": "033dc7d4",
   "metadata": {},
   "source": [
    "## Upload Processed Data to S3"
   ]
  },
  {
   "cell_type": "code",
   "execution_count": null,
   "id": "e4116656",
   "metadata": {},
   "outputs": [],
   "source": [
    "def upload_to_s3(bucket, prefix, channel, file_path, file_name):\n",
    "    s3 = boto3.resource(\"s3\")\n",
    "    data = open(file_path, \"rb\")\n",
    "    key = prefix + \"/\" + channel + \"/\" + file_name\n",
    "    s3.Bucket(bucket).put_object(Key=key, Body=data)\n",
    "\n",
    "upload_to_s3(bucket, prefix, \"train\", \"generated/train_data_me.json\", \"train_data_me.json\")\n",
    "upload_to_s3(bucket, prefix, \"train\", \"generated/dev_data_me.json\", \"dev_data_me.json\")\n",
    "upload_to_s3(bucket, prefix, \"train\", \"generated/schemas_me.json\", \"schemas_me.json\")\n",
    "upload_to_s3(bucket, prefix, \"train\", \"generated/all_chars_me.json\",\"all_chars_me.json\")"
   ]
  },
  {
   "cell_type": "code",
   "execution_count": null,
   "id": "e8f4986d",
   "metadata": {},
   "outputs": [
    {
     "name": "stdout",
     "output_type": "stream",
     "text": [
      "2021-06-10 07:29:23 Starting - Starting the training job...\n",
      "2021-06-10 07:29:46 Starting - Launching requested ML instancesProfilerReport-1623310145: InProgress\n",
      "......\n",
      "2021-06-10 07:30:46 Starting - Preparing the instances for training......\n",
      "2021-06-10 07:31:48 Downloading - Downloading input data\n",
      "2021-06-10 07:31:48 Training - Downloading the training image.....\u001b[34mbash: cannot set terminal process group (-1): Inappropriate ioctl for device\u001b[0m\n",
      "\u001b[34mbash: no job control in this shell\u001b[0m\n",
      "\u001b[34m2021-06-10 07:32:30,434 sagemaker-training-toolkit INFO     Imported framework sagemaker_pytorch_container.training\u001b[0m\n",
      "\u001b[34m2021-06-10 07:32:30,436 sagemaker-training-toolkit INFO     No GPUs detected (normal if no gpus installed)\u001b[0m\n",
      "\u001b[34m2021-06-10 07:32:30,444 sagemaker_pytorch_container.training INFO     Block until all host DNS lookups succeed.\u001b[0m\n",
      "\u001b[34m2021-06-10 07:32:31,870 sagemaker_pytorch_container.training INFO     Invoking user training script.\u001b[0m\n",
      "\u001b[34m2021-06-10 07:32:34,474 sagemaker-training-toolkit INFO     Installing dependencies from requirements.txt:\u001b[0m\n",
      "\u001b[34m/opt/conda/bin/python3.6 -m pip install -r requirements.txt\u001b[0m\n",
      "\u001b[34mRequirement already satisfied: tqdm in /opt/conda/lib/python3.6/site-packages (from -r requirements.txt (line 1)) (4.59.0)\u001b[0m\n",
      "\u001b[34m2021-06-10 07:32:36,030 sagemaker-training-toolkit INFO     No GPUs detected (normal if no gpus installed)\u001b[0m\n",
      "\u001b[34m2021-06-10 07:32:36,042 sagemaker-training-toolkit INFO     No GPUs detected (normal if no gpus installed)\u001b[0m\n",
      "\u001b[34m2021-06-10 07:32:36,053 sagemaker-training-toolkit INFO     No GPUs detected (normal if no gpus installed)\u001b[0m\n",
      "\u001b[34m2021-06-10 07:32:36,062 sagemaker-training-toolkit INFO     Invoking user script\n",
      "\u001b[0m\n",
      "\u001b[34mTraining Env:\n",
      "\u001b[0m\n",
      "\u001b[34m{\n",
      "    \"additional_framework_parameters\": {},\n",
      "    \"channel_input_dirs\": {\n",
      "        \"test\": \"/opt/ml/input/data/test\",\n",
      "        \"train\": \"/opt/ml/input/data/train\"\n",
      "    },\n",
      "    \"current_host\": \"algo-1\",\n",
      "    \"framework_module\": \"sagemaker_pytorch_container.training:main\",\n",
      "    \"hosts\": [\n",
      "        \"algo-1\"\n",
      "    ],\n",
      "    \"hyperparameters\": {\n",
      "        \"batch-size\": 64,\n",
      "        \"learning-rate\": 0.001,\n",
      "        \"epochs\": 1\n",
      "    },\n",
      "    \"input_config_dir\": \"/opt/ml/input/config\",\n",
      "    \"input_data_config\": {\n",
      "        \"test\": {\n",
      "            \"TrainingInputMode\": \"File\",\n",
      "            \"S3DistributionType\": \"FullyReplicated\",\n",
      "            \"RecordWrapperType\": \"None\"\n",
      "        },\n",
      "        \"train\": {\n",
      "            \"TrainingInputMode\": \"File\",\n",
      "            \"S3DistributionType\": \"FullyReplicated\",\n",
      "            \"RecordWrapperType\": \"None\"\n",
      "        }\n",
      "    },\n",
      "    \"input_dir\": \"/opt/ml/input\",\n",
      "    \"is_master\": true,\n",
      "    \"job_name\": \"pytorch-training-2021-06-10-07-29-05-667\",\n",
      "    \"log_level\": 20,\n",
      "    \"master_hostname\": \"algo-1\",\n",
      "    \"model_dir\": \"/opt/ml/model\",\n",
      "    \"module_dir\": \"s3://sagemaker-us-east-1-093729152554/pytorch-training-2021-06-10-07-29-05-667/source/sourcedir.tar.gz\",\n",
      "    \"module_name\": \"sm_train\",\n",
      "    \"network_interface_name\": \"eth0\",\n",
      "    \"num_cpus\": 16,\n",
      "    \"num_gpus\": 0,\n",
      "    \"output_data_dir\": \"/opt/ml/output/data\",\n",
      "    \"output_dir\": \"/opt/ml/output\",\n",
      "    \"output_intermediate_dir\": \"/opt/ml/output/intermediate\",\n",
      "    \"resource_config\": {\n",
      "        \"current_host\": \"algo-1\",\n",
      "        \"hosts\": [\n",
      "            \"algo-1\"\n",
      "        ],\n",
      "        \"network_interface_name\": \"eth0\"\n",
      "    },\n",
      "    \"user_entry_point\": \"sm_train.py\"\u001b[0m\n",
      "\u001b[34m}\n",
      "\u001b[0m\n",
      "\u001b[34mEnvironment variables:\n",
      "\u001b[0m\n",
      "\u001b[34mSM_HOSTS=[\"algo-1\"]\u001b[0m\n",
      "\u001b[34mSM_NETWORK_INTERFACE_NAME=eth0\u001b[0m\n",
      "\u001b[34mSM_HPS={\"batch-size\":64,\"epochs\":1,\"learning-rate\":0.001}\u001b[0m\n",
      "\u001b[34mSM_USER_ENTRY_POINT=sm_train.py\u001b[0m\n",
      "\u001b[34mSM_FRAMEWORK_PARAMS={}\u001b[0m\n",
      "\u001b[34mSM_RESOURCE_CONFIG={\"current_host\":\"algo-1\",\"hosts\":[\"algo-1\"],\"network_interface_name\":\"eth0\"}\u001b[0m\n",
      "\u001b[34mSM_INPUT_DATA_CONFIG={\"test\":{\"RecordWrapperType\":\"None\",\"S3DistributionType\":\"FullyReplicated\",\"TrainingInputMode\":\"File\"},\"train\":{\"RecordWrapperType\":\"None\",\"S3DistributionType\":\"FullyReplicated\",\"TrainingInputMode\":\"File\"}}\u001b[0m\n",
      "\u001b[34mSM_OUTPUT_DATA_DIR=/opt/ml/output/data\u001b[0m\n",
      "\u001b[34mSM_CHANNELS=[\"test\",\"train\"]\u001b[0m\n",
      "\u001b[34mSM_CURRENT_HOST=algo-1\u001b[0m\n",
      "\u001b[34mSM_MODULE_NAME=sm_train\u001b[0m\n",
      "\u001b[34mSM_LOG_LEVEL=20\u001b[0m\n",
      "\u001b[34mSM_FRAMEWORK_MODULE=sagemaker_pytorch_container.training:main\u001b[0m\n",
      "\u001b[34mSM_INPUT_DIR=/opt/ml/input\u001b[0m\n",
      "\u001b[34mSM_INPUT_CONFIG_DIR=/opt/ml/input/config\u001b[0m\n",
      "\u001b[34mSM_OUTPUT_DIR=/opt/ml/output\u001b[0m\n",
      "\u001b[34mSM_NUM_CPUS=16\u001b[0m\n",
      "\u001b[34mSM_NUM_GPUS=0\u001b[0m\n",
      "\u001b[34mSM_MODEL_DIR=/opt/ml/model\u001b[0m\n",
      "\u001b[34mSM_MODULE_DIR=s3://sagemaker-us-east-1-093729152554/pytorch-training-2021-06-10-07-29-05-667/source/sourcedir.tar.gz\u001b[0m\n",
      "\u001b[34mSM_TRAINING_ENV={\"additional_framework_parameters\":{},\"channel_input_dirs\":{\"test\":\"/opt/ml/input/data/test\",\"train\":\"/opt/ml/input/data/train\"},\"current_host\":\"algo-1\",\"framework_module\":\"sagemaker_pytorch_container.training:main\",\"hosts\":[\"algo-1\"],\"hyperparameters\":{\"batch-size\":64,\"epochs\":1,\"learning-rate\":0.001},\"input_config_dir\":\"/opt/ml/input/config\",\"input_data_config\":{\"test\":{\"RecordWrapperType\":\"None\",\"S3DistributionType\":\"FullyReplicated\",\"TrainingInputMode\":\"File\"},\"train\":{\"RecordWrapperType\":\"None\",\"S3DistributionType\":\"FullyReplicated\",\"TrainingInputMode\":\"File\"}},\"input_dir\":\"/opt/ml/input\",\"is_master\":true,\"job_name\":\"pytorch-training-2021-06-10-07-29-05-667\",\"log_level\":20,\"master_hostname\":\"algo-1\",\"model_dir\":\"/opt/ml/model\",\"module_dir\":\"s3://sagemaker-us-east-1-093729152554/pytorch-training-2021-06-10-07-29-05-667/source/sourcedir.tar.gz\",\"module_name\":\"sm_train\",\"network_interface_name\":\"eth0\",\"num_cpus\":16,\"num_gpus\":0,\"output_data_dir\":\"/opt/ml/output/data\",\"output_dir\":\"/opt/ml/output\",\"output_intermediate_dir\":\"/opt/ml/output/intermediate\",\"resource_config\":{\"current_host\":\"algo-1\",\"hosts\":[\"algo-1\"],\"network_interface_name\":\"eth0\"},\"user_entry_point\":\"sm_train.py\"}\u001b[0m\n",
      "\u001b[34mSM_USER_ARGS=[\"--batch-size\",\"64\",\"--epochs\",\"1\",\"--learning-rate\",\"0.001\"]\u001b[0m\n",
      "\u001b[34mSM_OUTPUT_INTERMEDIATE_DIR=/opt/ml/output/intermediate\u001b[0m\n",
      "\u001b[34mSM_CHANNEL_TEST=/opt/ml/input/data/test\u001b[0m\n",
      "\u001b[34mSM_CHANNEL_TRAIN=/opt/ml/input/data/train\u001b[0m\n",
      "\u001b[34mSM_HP_BATCH-SIZE=64\u001b[0m\n",
      "\u001b[34mSM_HP_LEARNING-RATE=0.001\u001b[0m\n",
      "\u001b[34mSM_HP_EPOCHS=1\u001b[0m\n",
      "\u001b[34mPYTHONPATH=/opt/ml/code:/opt/conda/bin:/opt/conda/lib/python36.zip:/opt/conda/lib/python3.6:/opt/conda/lib/python3.6/lib-dynload:/opt/conda/lib/python3.6/site-packages\n",
      "\u001b[0m\n",
      "\u001b[34mInvoking script with the following command:\n",
      "\u001b[0m\n",
      "\u001b[34m/opt/conda/bin/python3.6 sm_train.py --batch-size 64 --epochs 1 --learning-rate 0.001\n",
      "\n",
      "\u001b[0m\n",
      "\n",
      "2021-06-10 07:32:46 Training - Training image download completed. Training in progress.\u001b[34m[2021-06-10 07:33:05.099 algo-1:40 INFO utils.py:27] RULE_JOB_STOP_SIGNAL_FILENAME: None\u001b[0m\n",
      "\u001b[34m[2021-06-10 07:33:05.331 algo-1:40 INFO profiler_config_parser.py:102] User has disabled profiler.\u001b[0m\n",
      "\u001b[34m[2021-06-10 07:33:05.331 algo-1:40 INFO json_config.py:91] Creating hook from json_config at /opt/ml/input/config/debughookconfig.json.\u001b[0m\n",
      "\u001b[34m[2021-06-10 07:33:05.331 algo-1:40 INFO hook.py:199] tensorboard_dir has not been set for the hook. SMDebug will not be exporting tensorboard summaries.\u001b[0m\n",
      "\u001b[34m[2021-06-10 07:33:05.332 algo-1:40 INFO hook.py:253] Saving to /opt/ml/output/tensors\u001b[0m\n",
      "\u001b[34m[2021-06-10 07:33:05.332 algo-1:40 INFO state_store.py:77] The checkpoint config file /opt/ml/input/config/checkpointconfig.json does not exist.\u001b[0m\n",
      "\u001b[34m[2021-06-10 07:33:05.480 algo-1:40 INFO hook.py:584] name:embeds.weight count_params:999808\u001b[0m\n",
      "\u001b[34m[2021-06-10 07:33:05.480 algo-1:40 INFO hook.py:584] name:lstm1.weight_ih_l0 count_params:32768\u001b[0m\n",
      "\u001b[34m[2021-06-10 07:33:05.480 algo-1:40 INFO hook.py:584] name:lstm1.weight_hh_l0 count_params:16384\u001b[0m\n",
      "\u001b[34m[2021-06-10 07:33:05.480 algo-1:40 INFO hook.py:584] name:lstm1.bias_ih_l0 count_params:256\u001b[0m\n",
      "\u001b[34m[2021-06-10 07:33:05.480 algo-1:40 INFO hook.py:584] name:lstm1.bias_hh_l0 count_params:256\u001b[0m\n",
      "\u001b[34m[2021-06-10 07:33:05.480 algo-1:40 INFO hook.py:584] name:lstm1.weight_ih_l0_reverse count_params:32768\u001b[0m\n",
      "\u001b[34m[2021-06-10 07:33:05.480 algo-1:40 INFO hook.py:584] name:lstm1.weight_hh_l0_reverse count_params:16384\u001b[0m\n",
      "\u001b[34m[2021-06-10 07:33:05.480 algo-1:40 INFO hook.py:584] name:lstm1.bias_ih_l0_reverse count_params:256\u001b[0m\n",
      "\u001b[34m[2021-06-10 07:33:05.480 algo-1:40 INFO hook.py:584] name:lstm1.bias_hh_l0_reverse count_params:256\u001b[0m\n",
      "\u001b[34m[2021-06-10 07:33:05.480 algo-1:40 INFO hook.py:584] name:lstm2.weight_ih_l0 count_params:32768\u001b[0m\n",
      "\u001b[34m[2021-06-10 07:33:05.480 algo-1:40 INFO hook.py:584] name:lstm2.weight_hh_l0 count_params:16384\u001b[0m\n",
      "\u001b[34m[2021-06-10 07:33:05.480 algo-1:40 INFO hook.py:584] name:lstm2.bias_ih_l0 count_params:256\u001b[0m\n",
      "\u001b[34m[2021-06-10 07:33:05.480 algo-1:40 INFO hook.py:584] name:lstm2.bias_hh_l0 count_params:256\u001b[0m\n",
      "\u001b[34m[2021-06-10 07:33:05.481 algo-1:40 INFO hook.py:584] name:lstm2.weight_ih_l0_reverse count_params:32768\u001b[0m\n",
      "\u001b[34m[2021-06-10 07:33:05.481 algo-1:40 INFO hook.py:584] name:lstm2.weight_hh_l0_reverse count_params:16384\u001b[0m\n",
      "\u001b[34m[2021-06-10 07:33:05.481 algo-1:40 INFO hook.py:584] name:lstm2.bias_ih_l0_reverse count_params:256\u001b[0m\n",
      "\u001b[34m[2021-06-10 07:33:05.481 algo-1:40 INFO hook.py:584] name:lstm2.bias_hh_l0_reverse count_params:256\u001b[0m\n",
      "\u001b[34m[2021-06-10 07:33:05.481 algo-1:40 INFO hook.py:584] name:conv1.0.weight count_params:98304\u001b[0m\n",
      "\u001b[34m[2021-06-10 07:33:05.481 algo-1:40 INFO hook.py:584] name:conv1.0.bias count_params:128\u001b[0m\n",
      "\u001b[34m[2021-06-10 07:33:05.481 algo-1:40 INFO hook.py:584] name:fc_ps1.0.weight count_params:128\u001b[0m\n",
      "\u001b[34m[2021-06-10 07:33:05.481 algo-1:40 INFO hook.py:584] name:fc_ps1.0.bias count_params:1\u001b[0m\n",
      "\u001b[34m[2021-06-10 07:33:05.481 algo-1:40 INFO hook.py:584] name:fc_ps2.0.weight count_params:128\u001b[0m\n",
      "\u001b[34m[2021-06-10 07:33:05.481 algo-1:40 INFO hook.py:584] name:fc_ps2.0.bias count_params:1\u001b[0m\n",
      "\u001b[34m[2021-06-10 07:33:05.481 algo-1:40 INFO hook.py:586] Total Trainable Params: 1297154\u001b[0m\n",
      "\u001b[34m[2021-06-10 07:33:05.481 algo-1:40 INFO hook.py:413] Monitoring the collections: losses\u001b[0m\n",
      "\u001b[34m[2021-06-10 07:33:05.484 algo-1:40 INFO hook.py:476] Hook is writing from the hook with pid: 40\n",
      "\u001b[0m\n",
      "\u001b[34m[2021-06-10 07:33:06.026 algo-1:40 WARNING hook.py:1037] var is not Tensor or list or tuple of Tensors, module_name:lstm1 NoneType\u001b[0m\n",
      "\u001b[34m[2021-06-10 07:33:06.343 algo-1:40 WARNING hook.py:1037] var is not Tensor or list or tuple of Tensors, module_name:lstm2 NoneType\u001b[0m\n",
      "\u001b[34m[2021-06-10 07:38:37.612 algo-1:40 WARNING hook.py:1037] var is not Tensor or list or tuple of Tensors, module_name:lstm1 NoneType\u001b[0m\n",
      "\u001b[34m[2021-06-10 07:38:37.684 algo-1:40 WARNING hook.py:1037] var is not Tensor or list or tuple of Tensors, module_name:lstm2 NoneType\u001b[0m\n",
      "\u001b[34m[2021-06-10 07:43:52.332 algo-1:40 WARNING hook.py:1037] var is not Tensor or list or tuple of Tensors, module_name:lstm1 NoneType\u001b[0m\n",
      "\u001b[34m[2021-06-10 07:43:52.402 algo-1:40 WARNING hook.py:1037] var is not Tensor or list or tuple of Tensors, module_name:lstm2 NoneType\u001b[0m\n"
     ]
    }
   ],
   "source": [
    "from sagemaker.pytorch.estimator import PyTorch\n",
    "import os\n",
    "\n",
    "pytorch_estimator = PyTorch('sm_train.py',\n",
    "                            role=role,\n",
    "                            instance_type='ml.c5.4xlarge',\n",
    "                            instance_count=1,\n",
    "                            framework_version='1.8.0',\n",
    "                            py_version='py3',\n",
    "                            source_dir='./',\n",
    "                            hyperparameters = {'epochs': 1, 'batch-size': 64, 'learning-rate': 0.001})\n",
    "pytorch_estimator.fit({'train': 's3://sm-nlp-data/ie-baseline/train/train_data_me.json',\n",
    "                       'test': 's3://sm-nlp-data/ie-baseline/train/dev_data_me.json',\n",
    "                       'output_path': 's3://sm-nlp-data/ie-baseline/outputs/'})"
   ]
  },
  {
   "cell_type": "code",
   "execution_count": null,
   "id": "3c057f95",
   "metadata": {},
   "outputs": [],
   "source": [
    "from sagemaker.pytorch.estimator import PyTorch\n",
    "import os\n",
    "\n",
    "pytorch_estimator = PyTorch('sm_train.py',\n",
    "                            role=role,\n",
    "                            instance_type='ml.p2.16xlarge',\n",
    "                            instance_count=1,\n",
    "                            framework_version='1.8.0',\n",
    "                            py_version='py3',\n",
    "                            source_dir='./',\n",
    "                            hyperparameters = {'epochs': 100, 'batch-size': 64, 'learning-rate': 0.001})\n",
    "pytorch_estimator.fit({'train': 's3://sm-nlp-data/ie-baseline/train/train_data_me.json',\n",
    "                       'test': 's3://sm-nlp-data/ie-baseline/train/dev_data_me.json'})"
   ]
  },
  {
   "cell_type": "code",
   "execution_count": null,
   "id": "8e5bd055",
   "metadata": {},
   "outputs": [],
   "source": [
    "!python sm_"
   ]
  }
 ],
 "metadata": {
  "kernelspec": {
   "display_name": "conda_pytorch_latest_p36",
   "language": "python",
   "name": "conda_pytorch_latest_p36"
  },
  "language_info": {
   "codemirror_mode": {
    "name": "ipython",
    "version": 3
   },
   "file_extension": ".py",
   "mimetype": "text/x-python",
   "name": "python",
   "nbconvert_exporter": "python",
   "pygments_lexer": "ipython3",
   "version": "3.6.13"
  }
 },
 "nbformat": 4,
 "nbformat_minor": 5
}
