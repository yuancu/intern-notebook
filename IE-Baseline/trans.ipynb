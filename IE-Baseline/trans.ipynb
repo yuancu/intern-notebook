{
 "cells": [
  {
   "cell_type": "code",
   "execution_count": 1,
   "id": "bfcacb16",
   "metadata": {},
   "outputs": [
    {
     "name": "stdout",
     "output_type": "stream",
     "text": [
      "schema.json trans.ipynb\r\n"
     ]
    }
   ],
   "source": [
    "!ls"
   ]
  },
  {
   "cell_type": "code",
   "execution_count": 16,
   "id": "74b757d4",
   "metadata": {},
   "outputs": [],
   "source": [
    "import json\n",
    "from tqdm import tqdm\n",
    "import codecs\n",
    "from collections import defaultdict"
   ]
  },
  {
   "cell_type": "code",
   "execution_count": 11,
   "id": "a3e99fd5",
   "metadata": {},
   "outputs": [
    {
     "name": "stderr",
     "output_type": "stream",
     "text": [
      "48it [00:00, 80692.02it/s]\n"
     ]
    }
   ],
   "source": [
    "schemas = set()\n",
    "with open('data/schema.json') as f:\n",
    "    for l in tqdm(f):\n",
    "        a = json.loads(l)\n",
    "        schemas.add(a['predicate'])\n",
    "\n",
    "id2predicate = {i+1:j for i,j in enumerate(schemas)} # 0表示终止类别\n",
    "predicate2id = {j:i for i,j in id2predicate.items()}\n",
    "\n",
    "with codecs.open('generated/schemas_me.json', 'w', encoding='utf-8') as f:\n",
    "    json.dump([id2predicate, predicate2id], f, indent=4, ensure_ascii=False)"
   ]
  },
  {
   "cell_type": "code",
   "execution_count": 12,
   "id": "4d4a9009",
   "metadata": {},
   "outputs": [
    {
     "name": "stdout",
     "output_type": "stream",
     "text": [
      "id to predicates: {1: '上映时间', 2: '董事长', 3: '首都', 4: '饰演', 5: '专业代码', 6: '修业年限', 7: '主题曲', 8: '主演', 9: '妻子', 10: '气候', 11: '注册资本', 12: '丈夫', 13: '导演', 14: '作曲', 15: '创始人', 16: '毕业院校', 17: '改编自', 18: '占地面积', 19: '成立日期', 20: '配音', 21: '人口数量', 22: '制片人', 23: '主角', 24: '嘉宾', 25: '祖籍', 26: '父亲', 27: '国籍', 28: '所属专辑', 29: '简称', 30: '编剧', 31: '邮政编码', 32: '作词', 33: '面积', 34: '获奖', 35: '海拔', 36: '票房', 37: '作者', 38: '朝代', 39: '总部地点', 40: '所在城市', 41: '出品公司', 42: '官方语言', 43: '校长', 44: '主持人', 45: '号', 46: '歌手', 47: '代言人', 48: '母亲'}\n"
     ]
    }
   ],
   "source": [
    "# debug cell\n",
    "print(\"id to predicates:\", id2predicate)"
   ]
  },
  {
   "cell_type": "code",
   "execution_count": 20,
   "id": "0d56052b",
   "metadata": {},
   "outputs": [
    {
     "name": "stderr",
     "output_type": "stream",
     "text": [
      "171293it [00:04, 36089.95it/s]\n"
     ]
    }
   ],
   "source": [
    "chars = defaultdict(int) # count characters\n",
    "min_count = 2\n",
    "\n",
    "train_data = []\n",
    "with open('data/train.json') as f:\n",
    "    for l in tqdm(f):\n",
    "        a = json.loads(l)\n",
    "        train_data.append(\n",
    "            {\n",
    "                'text': a['text'],\n",
    "                'spo_list': [(i['subject'], i['predicate'], i['object']) for i in a['spo_list']]\n",
    "            }\n",
    "        )\n",
    "        for c in a['text']:\n",
    "            chars[c] += 1\n",
    "\n",
    "with codecs.open('generated/train_data_me.json', 'w', encoding='utf-8') as f:\n",
    "    json.dump(train_data, f, indent=4, ensure_ascii=False)\n"
   ]
  },
  {
   "cell_type": "code",
   "execution_count": 21,
   "id": "975ad2dc",
   "metadata": {},
   "outputs": [
    {
     "name": "stderr",
     "output_type": "stream",
     "text": [
      "20674it [00:00, 42410.64it/s]\n"
     ]
    }
   ],
   "source": [
    "dev_data = []\n",
    "\n",
    "with open('data/dev.json') as f:\n",
    "    for l in tqdm(f):\n",
    "        a = json.loads(l)\n",
    "        dev_data.append(\n",
    "            {\n",
    "                'text': a['text'],\n",
    "                'spo_list': [(i['subject'], i['predicate'], i['object']) for i in a['spo_list']]\n",
    "            }\n",
    "        )\n",
    "        for c in a['text']:\n",
    "            chars[c] += 1\n",
    "\n",
    "with codecs.open('generated/dev_data_me.json', 'w', encoding='utf-8') as f:\n",
    "    json.dump(dev_data, f, indent=4, ensure_ascii=False)"
   ]
  },
  {
   "cell_type": "markdown",
   "id": "ca802b1f",
   "metadata": {},
   "source": [
    "Create a dictionaries of int to char and char to int."
   ]
  },
  {
   "cell_type": "code",
   "execution_count": 22,
   "id": "918f405b",
   "metadata": {},
   "outputs": [],
   "source": [
    "with codecs.open('generated/all_chars_me.json', 'w', encoding='utf-8') as f:\n",
    "    chars = {i:j for i,j in chars.items() if j >= min_count}\n",
    "    id2char = {i+2:j for i,j in enumerate(chars)} # padding: 0, unk: 1\n",
    "    char2id = {j:i for i,j in id2char.items()}\n",
    "    json.dump([id2char, char2id], f, indent=4, ensure_ascii=False)"
   ]
  },
  {
   "cell_type": "code",
   "execution_count": null,
   "id": "f043bf9b",
   "metadata": {},
   "outputs": [],
   "source": []
  }
 ],
 "metadata": {
  "kernelspec": {
   "display_name": "Python 3",
   "language": "python",
   "name": "python3"
  },
  "language_info": {
   "codemirror_mode": {
    "name": "ipython",
    "version": 3
   },
   "file_extension": ".py",
   "mimetype": "text/x-python",
   "name": "python",
   "nbconvert_exporter": "python",
   "pygments_lexer": "ipython3",
   "version": "3.8.8"
  }
 },
 "nbformat": 4,
 "nbformat_minor": 5
}
